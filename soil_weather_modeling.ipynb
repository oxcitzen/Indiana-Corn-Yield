{
 "cells": [
  {
   "cell_type": "code",
   "execution_count": 1,
   "metadata": {},
   "outputs": [],
   "source": [
    "import pandas as pd\n",
    "import matplotlib.pyplot as plt\n",
    "import seaborn as sns\n",
    "from sklearn.model_selection import train_test_split\n",
    "from sklearn.linear_model import LinearRegression\n",
    "from sklearn.metrics import mean_squared_error, r2_score\n",
    "from sklearn.ensemble import RandomForestRegressor\n",
    "from sklearn.model_selection import GridSearchCV\n",
    "import numpy as np"
   ]
  },
  {
   "cell_type": "code",
   "execution_count": 2,
   "metadata": {},
   "outputs": [],
   "source": [
    "import xgboost as xgb\n",
    "from sklearn.ensemble import GradientBoostingRegressor\n"
   ]
  },
  {
   "cell_type": "code",
   "execution_count": 28,
   "metadata": {},
   "outputs": [
    {
     "name": "stdout",
     "output_type": "stream",
     "text": [
      "  County Data1  Data2\n",
      "0      A     a      1\n",
      "1      B     b      2\n",
      "2      C     c      3\n",
      "3      D     d      4\n",
      "4      A     e      1\n",
      "5      B     f      2\n",
      "6      C     g      3\n",
      "7      D     h      4\n"
     ]
    }
   ],
   "source": [
    "'''\n",
    "import pandas as pd\n",
    "\n",
    "# Assuming df1 and df2 are your DataFrame objects\n",
    "# Load your DataFrame objects (replace the data with your actual DataFrames)\n",
    "df1 = pd.DataFrame({'County': ['A', 'B', 'C', 'D', 'A', 'B', 'C', 'D'], 'Data1': [\"a\", \"b\", \"c\", \"d\", \"e\", \"f\", \"g\", \"h\"]})\n",
    "df2 = pd.DataFrame({'County': ['A', 'B', 'C', 'D'], 'Data2': [1, 2, 3, 4]})\n",
    "\n",
    "# Left join based on the \"County\" column\n",
    "merged_df = pd.merge(df1, df2, on='County', how='left')\n",
    "\n",
    "# Resulting DataFrame will contain all rows from df1, and matching rows from df2\n",
    "# Non-matching rows in df2 will have NaN values for the new columns\n",
    "print(merged_df)\n",
    "'''"
   ]
  },
  {
   "cell_type": "code",
   "execution_count": 96,
   "metadata": {},
   "outputs": [],
   "source": [
    "weather_cleaned = pd.read_csv(\"final_cleaned_data/weather_yield_x_normalize.csv\").drop(columns=[\"Unnamed: 0\"], axis=1)\n",
    "soil_cleaned = pd.read_csv(\"final_cleaned_data/soil_yield_table.csv\").drop(columns=[\"Unnamed: 0\", \"Value\"], axis=1)"
   ]
  },
  {
   "cell_type": "code",
   "execution_count": 97,
   "metadata": {},
   "outputs": [],
   "source": [
    "def columns_with_mostly_zeros(df, threshold=0.95):\n",
    "    \"\"\"\n",
    "    Get columns where 95% or more of the values are zero.\n",
    "\n",
    "    Parameters:\n",
    "    - df: DataFrame\n",
    "        The input DataFrame.\n",
    "    - threshold: float, optional (default=0.95)\n",
    "        The threshold percentage for determining if a column contains mostly zeros.\n",
    "\n",
    "    Returns:\n",
    "    - list\n",
    "        A list of column names where 95% or more of the values are zero.\n",
    "    \"\"\"\n",
    "    # Calculate the percentage of zeros in each column\n",
    "    zero_counts = (df == 0).mean()\n",
    "\n",
    "    # Filter columns where the percentage of zeros exceeds the threshold\n",
    "    mostly_zeros_columns = zero_counts[zero_counts >= threshold].index.tolist()\n",
    "\n",
    "    return mostly_zeros_columns"
   ]
  },
  {
   "cell_type": "code",
   "execution_count": 98,
   "metadata": {},
   "outputs": [],
   "source": [
    "mostly_zeros_columns = columns_with_mostly_zeros(weather_cleaned)"
   ]
  },
  {
   "cell_type": "code",
   "execution_count": 99,
   "metadata": {},
   "outputs": [],
   "source": [
    "weather_cleaned_v2 = weather_cleaned.drop(columns=mostly_zeros_columns, axis=1)"
   ]
  },
  {
   "cell_type": "code",
   "execution_count": 100,
   "metadata": {},
   "outputs": [],
   "source": [
    "weather_cleaned_v3 = weather_cleaned_v2.drop(columns=[\"EMSD_4\", \"SNOW_4\", \"DX90_10\"], axis=1)"
   ]
  },
  {
   "cell_type": "code",
   "execution_count": 102,
   "metadata": {},
   "outputs": [
    {
     "data": {
      "text/plain": [
       "Index(['County', 'AWS', 'Representative_Non-Irrigated_Yield', 'cec7_l',\n",
       "       'ksat_l', 'awc_l', 'ph1to1h2o_l', 'ec_l', 'ec_r', 'ec_h',\n",
       "       'soil_type_Coarse-loamy, mixed, active, mesic Typic Hapludalfs',\n",
       "       'soil_type_Coarse-loamy, mixed, superactive, mesic Mollic Hapludalfs',\n",
       "       'soil_type_Euic, mesic Typic Haplosaprists',\n",
       "       'soil_type_Fine, illitic, mesic Aeric Epiaqualfs',\n",
       "       'soil_type_Fine, mixed, active, mesic Aeric Epiaqualfs',\n",
       "       'soil_type_Fine, mixed, active, mesic Aquultic Hapludalfs',\n",
       "       'soil_type_Fine, mixed, active, mesic Oxyaquic Hapludalfs',\n",
       "       'soil_type_Fine, mixed, active, mesic Typic Hapludalfs',\n",
       "       'soil_type_Fine-loamy, mixed, active, mesic Oxyaquic Argiudolls',\n",
       "       'soil_type_Fine-loamy, mixed, active, mesic Oxyaquic Hapludalfs',\n",
       "       'soil_type_Fine-loamy, mixed, active, mesic Typic Hapludalfs',\n",
       "       'soil_type_Fine-loamy, mixed, superactive, mesic Aquic Argiudolls',\n",
       "       'soil_type_Fine-silty, mixed, active, mesic Oxyaquic Fragiudalfs',\n",
       "       'soil_type_Fine-silty, mixed, active, mesic Oxyaquic Hapludalfs',\n",
       "       'soil_type_Fine-silty, mixed, active, mesic Ultic Hapludalfs',\n",
       "       'soil_type_Fine-silty, mixed, superactive, mesic Typic Argiaquolls',\n",
       "       'soil_type_Fine-silty, mixed, superactive, mesic Typic Hapludalfs',\n",
       "       'soil_type_Fine-silty, mixed, superactive, mesic Ultic Hapludalfs',\n",
       "       'soil_type_Loamy, mixed, active, mesic Arenic Hapludalfs',\n",
       "       'soil_type_Mixed, mesic Aquic Udipsamments',\n",
       "       'soil_type_Mixed, mesic Typic Udipsamments',\n",
       "       'soil_type_Sandy, mixed, mesic Typic Endoaquolls',\n",
       "       'Drainage_Somewhat poorly drained', 'Drainage_Very poorly drained',\n",
       "       'Drainage_Well drained', 'texture_primary_Loam',\n",
       "       'texture_primary_Loamy sand', 'texture_primary_Sand',\n",
       "       'texture_primary_Sandy loam', 'texture_primary_Silt loam',\n",
       "       'texture_primary_Silty clay loam', 'texture_secondary_L',\n",
       "       'texture_secondary_LS', 'texture_secondary_S', 'texture_secondary_SICL',\n",
       "       'texture_secondary_SIL', 'rvindicator_tex_Yes',\n",
       "       'RoadwayRelevanceSoilGrade_A-4', 'RoadwayRelevanceSoilGrade_A-6',\n",
       "       'HumanErosion_Sheet erosion', 'HumanErosion_Wind erosion',\n",
       "       'MoisterClass_Udic', 'Drainage_class_Somewhat poorly drained',\n",
       "       'Drainage_class_Very poorly drained', 'Drainage_class_Well drained'],\n",
       "      dtype='object')"
      ]
     },
     "execution_count": 102,
     "metadata": {},
     "output_type": "execute_result"
    }
   ],
   "source": [
    "soil_cleaned.columns"
   ]
  },
  {
   "cell_type": "code",
   "execution_count": 103,
   "metadata": {},
   "outputs": [],
   "source": [
    "# Left join based on the \"County\" column\n",
    "weather_soil_merged_df = pd.merge(weather_cleaned_v3 , soil_cleaned, on='County', how='left')"
   ]
  },
  {
   "cell_type": "code",
   "execution_count": 104,
   "metadata": {},
   "outputs": [
    {
     "data": {
      "text/html": [
       "<div>\n",
       "<style scoped>\n",
       "    .dataframe tbody tr th:only-of-type {\n",
       "        vertical-align: middle;\n",
       "    }\n",
       "\n",
       "    .dataframe tbody tr th {\n",
       "        vertical-align: top;\n",
       "    }\n",
       "\n",
       "    .dataframe thead th {\n",
       "        text-align: right;\n",
       "    }\n",
       "</style>\n",
       "<table border=\"1\" class=\"dataframe\">\n",
       "  <thead>\n",
       "    <tr style=\"text-align: right;\">\n",
       "      <th></th>\n",
       "      <th>Year</th>\n",
       "      <th>County</th>\n",
       "      <th>DP01_4</th>\n",
       "      <th>DP01_5</th>\n",
       "      <th>DP01_6</th>\n",
       "      <th>DP01_7</th>\n",
       "      <th>DP01_8</th>\n",
       "      <th>DP01_9</th>\n",
       "      <th>DP01_10</th>\n",
       "      <th>DP10_4</th>\n",
       "      <th>...</th>\n",
       "      <th>texture_secondary_SIL</th>\n",
       "      <th>rvindicator_tex_Yes</th>\n",
       "      <th>RoadwayRelevanceSoilGrade_A-4</th>\n",
       "      <th>RoadwayRelevanceSoilGrade_A-6</th>\n",
       "      <th>HumanErosion_Sheet erosion</th>\n",
       "      <th>HumanErosion_Wind erosion</th>\n",
       "      <th>MoisterClass_Udic</th>\n",
       "      <th>Drainage_class_Somewhat poorly drained</th>\n",
       "      <th>Drainage_class_Very poorly drained</th>\n",
       "      <th>Drainage_class_Well drained</th>\n",
       "    </tr>\n",
       "  </thead>\n",
       "  <tbody>\n",
       "    <tr>\n",
       "      <th>0</th>\n",
       "      <td>2002</td>\n",
       "      <td>ADAMS</td>\n",
       "      <td>11.000000</td>\n",
       "      <td>13.500000</td>\n",
       "      <td>8.500000</td>\n",
       "      <td>6.00</td>\n",
       "      <td>6.500</td>\n",
       "      <td>5.000000</td>\n",
       "      <td>6.000000</td>\n",
       "      <td>7.000000</td>\n",
       "      <td>...</td>\n",
       "      <td>0</td>\n",
       "      <td>0</td>\n",
       "      <td>0</td>\n",
       "      <td>1</td>\n",
       "      <td>1</td>\n",
       "      <td>0</td>\n",
       "      <td>0</td>\n",
       "      <td>1</td>\n",
       "      <td>0</td>\n",
       "      <td>0</td>\n",
       "    </tr>\n",
       "    <tr>\n",
       "      <th>1</th>\n",
       "      <td>2002</td>\n",
       "      <td>ALLEN</td>\n",
       "      <td>13.000000</td>\n",
       "      <td>14.000000</td>\n",
       "      <td>11.000000</td>\n",
       "      <td>6.00</td>\n",
       "      <td>8.000</td>\n",
       "      <td>6.000000</td>\n",
       "      <td>8.000000</td>\n",
       "      <td>7.000000</td>\n",
       "      <td>...</td>\n",
       "      <td>0</td>\n",
       "      <td>0</td>\n",
       "      <td>0</td>\n",
       "      <td>1</td>\n",
       "      <td>1</td>\n",
       "      <td>0</td>\n",
       "      <td>0</td>\n",
       "      <td>0</td>\n",
       "      <td>0</td>\n",
       "      <td>0</td>\n",
       "    </tr>\n",
       "    <tr>\n",
       "      <th>2</th>\n",
       "      <td>2002</td>\n",
       "      <td>BARTHOLOMEW</td>\n",
       "      <td>13.000000</td>\n",
       "      <td>13.000000</td>\n",
       "      <td>10.000000</td>\n",
       "      <td>6.00</td>\n",
       "      <td>9.000</td>\n",
       "      <td>6.000000</td>\n",
       "      <td>10.000000</td>\n",
       "      <td>11.000000</td>\n",
       "      <td>...</td>\n",
       "      <td>1</td>\n",
       "      <td>0</td>\n",
       "      <td>0</td>\n",
       "      <td>1</td>\n",
       "      <td>1</td>\n",
       "      <td>0</td>\n",
       "      <td>1</td>\n",
       "      <td>0</td>\n",
       "      <td>0</td>\n",
       "      <td>1</td>\n",
       "    </tr>\n",
       "    <tr>\n",
       "      <th>3</th>\n",
       "      <td>2002</td>\n",
       "      <td>BENTON</td>\n",
       "      <td>9.000000</td>\n",
       "      <td>15.000000</td>\n",
       "      <td>9.000000</td>\n",
       "      <td>8.00</td>\n",
       "      <td>9.000</td>\n",
       "      <td>9.000000</td>\n",
       "      <td>6.000000</td>\n",
       "      <td>7.000000</td>\n",
       "      <td>...</td>\n",
       "      <td>0</td>\n",
       "      <td>1</td>\n",
       "      <td>0</td>\n",
       "      <td>1</td>\n",
       "      <td>1</td>\n",
       "      <td>0</td>\n",
       "      <td>1</td>\n",
       "      <td>0</td>\n",
       "      <td>0</td>\n",
       "      <td>0</td>\n",
       "    </tr>\n",
       "    <tr>\n",
       "      <th>4</th>\n",
       "      <td>2002</td>\n",
       "      <td>BLACKFORD</td>\n",
       "      <td>12.000000</td>\n",
       "      <td>13.000000</td>\n",
       "      <td>8.000000</td>\n",
       "      <td>5.00</td>\n",
       "      <td>9.000</td>\n",
       "      <td>7.000000</td>\n",
       "      <td>5.000000</td>\n",
       "      <td>9.000000</td>\n",
       "      <td>...</td>\n",
       "      <td>0</td>\n",
       "      <td>0</td>\n",
       "      <td>0</td>\n",
       "      <td>1</td>\n",
       "      <td>0</td>\n",
       "      <td>0</td>\n",
       "      <td>0</td>\n",
       "      <td>0</td>\n",
       "      <td>0</td>\n",
       "      <td>0</td>\n",
       "    </tr>\n",
       "    <tr>\n",
       "      <th>...</th>\n",
       "      <td>...</td>\n",
       "      <td>...</td>\n",
       "      <td>...</td>\n",
       "      <td>...</td>\n",
       "      <td>...</td>\n",
       "      <td>...</td>\n",
       "      <td>...</td>\n",
       "      <td>...</td>\n",
       "      <td>...</td>\n",
       "      <td>...</td>\n",
       "      <td>...</td>\n",
       "      <td>...</td>\n",
       "      <td>...</td>\n",
       "      <td>...</td>\n",
       "      <td>...</td>\n",
       "      <td>...</td>\n",
       "      <td>...</td>\n",
       "      <td>...</td>\n",
       "      <td>...</td>\n",
       "      <td>...</td>\n",
       "      <td>...</td>\n",
       "    </tr>\n",
       "    <tr>\n",
       "      <th>1672</th>\n",
       "      <td>2022</td>\n",
       "      <td>WASHINGTON</td>\n",
       "      <td>14.666667</td>\n",
       "      <td>12.666667</td>\n",
       "      <td>6.333333</td>\n",
       "      <td>13.00</td>\n",
       "      <td>9.000</td>\n",
       "      <td>9.000000</td>\n",
       "      <td>3.000000</td>\n",
       "      <td>7.666667</td>\n",
       "      <td>...</td>\n",
       "      <td>1</td>\n",
       "      <td>0</td>\n",
       "      <td>0</td>\n",
       "      <td>1</td>\n",
       "      <td>1</td>\n",
       "      <td>0</td>\n",
       "      <td>1</td>\n",
       "      <td>0</td>\n",
       "      <td>0</td>\n",
       "      <td>1</td>\n",
       "    </tr>\n",
       "    <tr>\n",
       "      <th>1673</th>\n",
       "      <td>2022</td>\n",
       "      <td>WAYNE</td>\n",
       "      <td>16.000000</td>\n",
       "      <td>12.000000</td>\n",
       "      <td>8.000000</td>\n",
       "      <td>7.00</td>\n",
       "      <td>11.000</td>\n",
       "      <td>6.000000</td>\n",
       "      <td>6.000000</td>\n",
       "      <td>6.000000</td>\n",
       "      <td>...</td>\n",
       "      <td>0</td>\n",
       "      <td>1</td>\n",
       "      <td>0</td>\n",
       "      <td>1</td>\n",
       "      <td>0</td>\n",
       "      <td>0</td>\n",
       "      <td>1</td>\n",
       "      <td>0</td>\n",
       "      <td>0</td>\n",
       "      <td>1</td>\n",
       "    </tr>\n",
       "    <tr>\n",
       "      <th>1674</th>\n",
       "      <td>2022</td>\n",
       "      <td>WELLS</td>\n",
       "      <td>18.000000</td>\n",
       "      <td>13.333333</td>\n",
       "      <td>5.500000</td>\n",
       "      <td>11.25</td>\n",
       "      <td>8.250</td>\n",
       "      <td>9.000000</td>\n",
       "      <td>9.250000</td>\n",
       "      <td>7.000000</td>\n",
       "      <td>...</td>\n",
       "      <td>0</td>\n",
       "      <td>0</td>\n",
       "      <td>0</td>\n",
       "      <td>1</td>\n",
       "      <td>1</td>\n",
       "      <td>0</td>\n",
       "      <td>0</td>\n",
       "      <td>0</td>\n",
       "      <td>0</td>\n",
       "      <td>0</td>\n",
       "    </tr>\n",
       "    <tr>\n",
       "      <th>1675</th>\n",
       "      <td>2022</td>\n",
       "      <td>WHITE</td>\n",
       "      <td>14.000000</td>\n",
       "      <td>13.750000</td>\n",
       "      <td>6.500000</td>\n",
       "      <td>11.00</td>\n",
       "      <td>9.000</td>\n",
       "      <td>6.666667</td>\n",
       "      <td>6.000000</td>\n",
       "      <td>7.000000</td>\n",
       "      <td>...</td>\n",
       "      <td>0</td>\n",
       "      <td>1</td>\n",
       "      <td>1</td>\n",
       "      <td>0</td>\n",
       "      <td>0</td>\n",
       "      <td>1</td>\n",
       "      <td>1</td>\n",
       "      <td>1</td>\n",
       "      <td>0</td>\n",
       "      <td>0</td>\n",
       "    </tr>\n",
       "    <tr>\n",
       "      <th>1676</th>\n",
       "      <td>2022</td>\n",
       "      <td>WHITLEY</td>\n",
       "      <td>16.000000</td>\n",
       "      <td>12.875000</td>\n",
       "      <td>5.428571</td>\n",
       "      <td>10.75</td>\n",
       "      <td>8.875</td>\n",
       "      <td>12.571429</td>\n",
       "      <td>8.571429</td>\n",
       "      <td>6.142857</td>\n",
       "      <td>...</td>\n",
       "      <td>0</td>\n",
       "      <td>0</td>\n",
       "      <td>0</td>\n",
       "      <td>1</td>\n",
       "      <td>0</td>\n",
       "      <td>0</td>\n",
       "      <td>0</td>\n",
       "      <td>0</td>\n",
       "      <td>0</td>\n",
       "      <td>1</td>\n",
       "    </tr>\n",
       "  </tbody>\n",
       "</table>\n",
       "<p>1677 rows × 107 columns</p>\n",
       "</div>"
      ],
      "text/plain": [
       "      Year       County     DP01_4     DP01_5     DP01_6  DP01_7  DP01_8  \\\n",
       "0     2002        ADAMS  11.000000  13.500000   8.500000    6.00   6.500   \n",
       "1     2002        ALLEN  13.000000  14.000000  11.000000    6.00   8.000   \n",
       "2     2002  BARTHOLOMEW  13.000000  13.000000  10.000000    6.00   9.000   \n",
       "3     2002       BENTON   9.000000  15.000000   9.000000    8.00   9.000   \n",
       "4     2002    BLACKFORD  12.000000  13.000000   8.000000    5.00   9.000   \n",
       "...    ...          ...        ...        ...        ...     ...     ...   \n",
       "1672  2022   WASHINGTON  14.666667  12.666667   6.333333   13.00   9.000   \n",
       "1673  2022        WAYNE  16.000000  12.000000   8.000000    7.00  11.000   \n",
       "1674  2022        WELLS  18.000000  13.333333   5.500000   11.25   8.250   \n",
       "1675  2022        WHITE  14.000000  13.750000   6.500000   11.00   9.000   \n",
       "1676  2022      WHITLEY  16.000000  12.875000   5.428571   10.75   8.875   \n",
       "\n",
       "         DP01_9    DP01_10     DP10_4  ...  texture_secondary_SIL  \\\n",
       "0      5.000000   6.000000   7.000000  ...                      0   \n",
       "1      6.000000   8.000000   7.000000  ...                      0   \n",
       "2      6.000000  10.000000  11.000000  ...                      1   \n",
       "3      9.000000   6.000000   7.000000  ...                      0   \n",
       "4      7.000000   5.000000   9.000000  ...                      0   \n",
       "...         ...        ...        ...  ...                    ...   \n",
       "1672   9.000000   3.000000   7.666667  ...                      1   \n",
       "1673   6.000000   6.000000   6.000000  ...                      0   \n",
       "1674   9.000000   9.250000   7.000000  ...                      0   \n",
       "1675   6.666667   6.000000   7.000000  ...                      0   \n",
       "1676  12.571429   8.571429   6.142857  ...                      0   \n",
       "\n",
       "      rvindicator_tex_Yes  RoadwayRelevanceSoilGrade_A-4  \\\n",
       "0                       0                              0   \n",
       "1                       0                              0   \n",
       "2                       0                              0   \n",
       "3                       1                              0   \n",
       "4                       0                              0   \n",
       "...                   ...                            ...   \n",
       "1672                    0                              0   \n",
       "1673                    1                              0   \n",
       "1674                    0                              0   \n",
       "1675                    1                              1   \n",
       "1676                    0                              0   \n",
       "\n",
       "      RoadwayRelevanceSoilGrade_A-6  HumanErosion_Sheet erosion  \\\n",
       "0                                 1                           1   \n",
       "1                                 1                           1   \n",
       "2                                 1                           1   \n",
       "3                                 1                           1   \n",
       "4                                 1                           0   \n",
       "...                             ...                         ...   \n",
       "1672                              1                           1   \n",
       "1673                              1                           0   \n",
       "1674                              1                           1   \n",
       "1675                              0                           0   \n",
       "1676                              1                           0   \n",
       "\n",
       "      HumanErosion_Wind erosion  MoisterClass_Udic  \\\n",
       "0                             0                  0   \n",
       "1                             0                  0   \n",
       "2                             0                  1   \n",
       "3                             0                  1   \n",
       "4                             0                  0   \n",
       "...                         ...                ...   \n",
       "1672                          0                  1   \n",
       "1673                          0                  1   \n",
       "1674                          0                  0   \n",
       "1675                          1                  1   \n",
       "1676                          0                  0   \n",
       "\n",
       "      Drainage_class_Somewhat poorly drained  \\\n",
       "0                                          1   \n",
       "1                                          0   \n",
       "2                                          0   \n",
       "3                                          0   \n",
       "4                                          0   \n",
       "...                                      ...   \n",
       "1672                                       0   \n",
       "1673                                       0   \n",
       "1674                                       0   \n",
       "1675                                       1   \n",
       "1676                                       0   \n",
       "\n",
       "      Drainage_class_Very poorly drained  Drainage_class_Well drained  \n",
       "0                                      0                            0  \n",
       "1                                      0                            0  \n",
       "2                                      0                            1  \n",
       "3                                      0                            0  \n",
       "4                                      0                            0  \n",
       "...                                  ...                          ...  \n",
       "1672                                   0                            1  \n",
       "1673                                   0                            1  \n",
       "1674                                   0                            0  \n",
       "1675                                   0                            0  \n",
       "1676                                   0                            1  \n",
       "\n",
       "[1677 rows x 107 columns]"
      ]
     },
     "execution_count": 104,
     "metadata": {},
     "output_type": "execute_result"
    }
   ],
   "source": [
    "weather_soil_merged_df"
   ]
  },
  {
   "cell_type": "code",
   "execution_count": 105,
   "metadata": {},
   "outputs": [
    {
     "data": {
      "text/plain": [
       "Year                                      False\n",
       "County                                    False\n",
       "DP01_4                                    False\n",
       "DP01_5                                    False\n",
       "DP01_6                                    False\n",
       "                                          ...  \n",
       "HumanErosion_Wind erosion                 False\n",
       "MoisterClass_Udic                         False\n",
       "Drainage_class_Somewhat poorly drained    False\n",
       "Drainage_class_Very poorly drained        False\n",
       "Drainage_class_Well drained               False\n",
       "Length: 107, dtype: bool"
      ]
     },
     "execution_count": 105,
     "metadata": {},
     "output_type": "execute_result"
    }
   ],
   "source": [
    "# Check for empty values in any column\n",
    "weather_soil_merged_df.isna().any()"
   ]
  },
  {
   "cell_type": "code",
   "execution_count": 106,
   "metadata": {},
   "outputs": [],
   "source": [
    "merged_df = weather_soil_merged_df.copy()"
   ]
  },
  {
   "cell_type": "code",
   "execution_count": 107,
   "metadata": {},
   "outputs": [],
   "source": [
    "training_years = [2002, 2003, 2004, 2005, 2006, 2007,  2009, 2010, 2011, 2012, 2013, 2015, 2016, 2017, 2018, 2019,  2021, 2022]\n",
    "hold_out_years = [2008,2014, 2020]\n",
    "\n",
    "\n",
    "train_rows_bool = merged_df['Year'].isin(training_years)\n",
    "hold_rows_bool = merged_df['Year'].isin(hold_out_years)\n",
    "\n",
    "train_rows = merged_df[train_rows_bool]\n",
    "hold_rows = merged_df[hold_rows_bool]\n"
   ]
  },
  {
   "cell_type": "markdown",
   "metadata": {},
   "source": [
    "## Split into training, validation and test"
   ]
  },
  {
   "cell_type": "code",
   "execution_count": 108,
   "metadata": {},
   "outputs": [],
   "source": [
    "X = train_rows.drop(columns=[\"County\", \"Year\", \"Value\"], axis=1)\n",
    "y = train_rows[\"Value\"]\n",
    "\n",
    "X_hold= hold_rows.drop(columns=[\"County\", \"Year\", \"Value\"], axis=1)\n",
    "y_hold = hold_rows[\"Value\"]"
   ]
  },
  {
   "cell_type": "code",
   "execution_count": 109,
   "metadata": {},
   "outputs": [
    {
     "name": "stdout",
     "output_type": "stream",
     "text": [
      "(1424, 104)\n",
      "(1424,)\n",
      "(253, 104)\n",
      "(253,)\n"
     ]
    }
   ],
   "source": [
    "# [2002, 2003, 2004, 2005, 2006, 2007,  2009, 2010, 2011, 2012, 2013, 2015, 2016, 2017, 2018, 2019,  2021, 2022]\n",
    "\n",
    "print(X.shape) \n",
    "print(y.shape)\n",
    "\n",
    "\n",
    "# [2008,2014, 2020]\n",
    "print(X_hold.shape)\n",
    "print(y_hold.shape)"
   ]
  },
  {
   "cell_type": "code",
   "execution_count": 115,
   "metadata": {},
   "outputs": [],
   "source": [
    "X_train, X_test, y_train, y_test = train_test_split(X, y, test_size=0.2, random_state=24)"
   ]
  },
  {
   "cell_type": "code",
   "execution_count": 116,
   "metadata": {},
   "outputs": [],
   "source": [
    "X_train_weather = X_train.iloc[:, :50]\n",
    "X_train_soil = X_train.iloc[:, -54:]\n",
    "\n",
    "X_test_weather = X_test.iloc[:, :50]\n",
    "X_test_soil = X_test.iloc[:, -54:]\n",
    "\n",
    "X_hold_weather = X_hold.iloc[:, :50]\n",
    "X_hold_soil = X_hold.iloc[:, -54:]"
   ]
  },
  {
   "cell_type": "markdown",
   "metadata": {},
   "source": [
    "## Normalization for weather features"
   ]
  },
  {
   "cell_type": "code",
   "execution_count": 121,
   "metadata": {},
   "outputs": [],
   "source": [
    "from sklearn.preprocessing import StandardScaler\n",
    "from sklearn.preprocessing import RobustScaler"
   ]
  },
  {
   "cell_type": "code",
   "execution_count": 122,
   "metadata": {},
   "outputs": [],
   "source": [
    "columns_mode = [\n",
    "'DP01_4', 'DP01_5', 'DP01_6', 'DP01_7', 'DP01_8', \n",
    "                'DP01_9', 'DP01_10', 'DP10_4', 'DP10_5', \n",
    "                'DP10_6', 'DP10_7', 'DP10_8', 'DP10_9', 'DP10_10',\n",
    "'DT32_4', 'DT32_5', \n",
    " 'DT32_10',   'DX90_5', 'DX90_6', 'DX90_7', 'DX90_8', \n",
    "                            'DX90_9',   'EMXP_4', 'EMXP_5', 'EMXP_6', 'EMXP_7', 'EMXP_8', \n",
    "                            \n",
    "                          \n",
    "                            \n",
    "                            'EMXP_9', 'EMXP_10', 'PRCP_4', 'PRCP_5', 'PRCP_6', 'PRCP_7', 'PRCP_8', \n",
    "                'PRCP_9', 'PRCP_10'  ]\n",
    "\n",
    "\n",
    "columns_mean = [\n",
    "                'EMXT_4', 'EMXT_5', 'EMXT_6', 'EMXT_7', 'EMXT_8', \n",
    "                'EMXT_9', 'EMXT_10',  'TAVG_4', 'TAVG_5', 'TAVG_6', 'TAVG_7', 'TAVG_8', \n",
    "                'TAVG_9', 'TAVG_10' ]"
   ]
  },
  {
   "cell_type": "code",
   "execution_count": 123,
   "metadata": {},
   "outputs": [],
   "source": [
    "'''\n",
    "X_train_weather = X_train.iloc[:, :50]\n",
    "\n",
    "X_test_weather = X_test.iloc[:, :50]\n",
    "\n",
    "X_hold_weather = X_hold.iloc[:, :50]\n",
    "'''\n",
    "\n",
    "X_skewed_train = X_train_weather [columns_mode]\n",
    "X_normal_train = X_train_weather [columns_mean]\n",
    "\n",
    "X_skewed_test = X_test_weather[columns_mode]\n",
    "X_normal_test = X_test_weather[columns_mean]\n",
    "\n",
    "X_skewed_hold = X_hold_weather[columns_mode]\n",
    "X_normal_hold = X_hold_weather[columns_mean]"
   ]
  },
  {
   "cell_type": "code",
   "execution_count": 124,
   "metadata": {},
   "outputs": [
    {
     "data": {
      "text/html": [
       "<style>#sk-container-id-7 {color: black;background-color: white;}#sk-container-id-7 pre{padding: 0;}#sk-container-id-7 div.sk-toggleable {background-color: white;}#sk-container-id-7 label.sk-toggleable__label {cursor: pointer;display: block;width: 100%;margin-bottom: 0;padding: 0.3em;box-sizing: border-box;text-align: center;}#sk-container-id-7 label.sk-toggleable__label-arrow:before {content: \"▸\";float: left;margin-right: 0.25em;color: #696969;}#sk-container-id-7 label.sk-toggleable__label-arrow:hover:before {color: black;}#sk-container-id-7 div.sk-estimator:hover label.sk-toggleable__label-arrow:before {color: black;}#sk-container-id-7 div.sk-toggleable__content {max-height: 0;max-width: 0;overflow: hidden;text-align: left;background-color: #f0f8ff;}#sk-container-id-7 div.sk-toggleable__content pre {margin: 0.2em;color: black;border-radius: 0.25em;background-color: #f0f8ff;}#sk-container-id-7 input.sk-toggleable__control:checked~div.sk-toggleable__content {max-height: 200px;max-width: 100%;overflow: auto;}#sk-container-id-7 input.sk-toggleable__control:checked~label.sk-toggleable__label-arrow:before {content: \"▾\";}#sk-container-id-7 div.sk-estimator input.sk-toggleable__control:checked~label.sk-toggleable__label {background-color: #d4ebff;}#sk-container-id-7 div.sk-label input.sk-toggleable__control:checked~label.sk-toggleable__label {background-color: #d4ebff;}#sk-container-id-7 input.sk-hidden--visually {border: 0;clip: rect(1px 1px 1px 1px);clip: rect(1px, 1px, 1px, 1px);height: 1px;margin: -1px;overflow: hidden;padding: 0;position: absolute;width: 1px;}#sk-container-id-7 div.sk-estimator {font-family: monospace;background-color: #f0f8ff;border: 1px dotted black;border-radius: 0.25em;box-sizing: border-box;margin-bottom: 0.5em;}#sk-container-id-7 div.sk-estimator:hover {background-color: #d4ebff;}#sk-container-id-7 div.sk-parallel-item::after {content: \"\";width: 100%;border-bottom: 1px solid gray;flex-grow: 1;}#sk-container-id-7 div.sk-label:hover label.sk-toggleable__label {background-color: #d4ebff;}#sk-container-id-7 div.sk-serial::before {content: \"\";position: absolute;border-left: 1px solid gray;box-sizing: border-box;top: 0;bottom: 0;left: 50%;z-index: 0;}#sk-container-id-7 div.sk-serial {display: flex;flex-direction: column;align-items: center;background-color: white;padding-right: 0.2em;padding-left: 0.2em;position: relative;}#sk-container-id-7 div.sk-item {position: relative;z-index: 1;}#sk-container-id-7 div.sk-parallel {display: flex;align-items: stretch;justify-content: center;background-color: white;position: relative;}#sk-container-id-7 div.sk-item::before, #sk-container-id-7 div.sk-parallel-item::before {content: \"\";position: absolute;border-left: 1px solid gray;box-sizing: border-box;top: 0;bottom: 0;left: 50%;z-index: -1;}#sk-container-id-7 div.sk-parallel-item {display: flex;flex-direction: column;z-index: 1;position: relative;background-color: white;}#sk-container-id-7 div.sk-parallel-item:first-child::after {align-self: flex-end;width: 50%;}#sk-container-id-7 div.sk-parallel-item:last-child::after {align-self: flex-start;width: 50%;}#sk-container-id-7 div.sk-parallel-item:only-child::after {width: 0;}#sk-container-id-7 div.sk-dashed-wrapped {border: 1px dashed gray;margin: 0 0.4em 0.5em 0.4em;box-sizing: border-box;padding-bottom: 0.4em;background-color: white;}#sk-container-id-7 div.sk-label label {font-family: monospace;font-weight: bold;display: inline-block;line-height: 1.2em;}#sk-container-id-7 div.sk-label-container {text-align: center;}#sk-container-id-7 div.sk-container {/* jupyter's `normalize.less` sets `[hidden] { display: none; }` but bootstrap.min.css set `[hidden] { display: none !important; }` so we also need the `!important` here to be able to override the default hidden behavior on the sphinx rendered scikit-learn.org. See: https://github.com/scikit-learn/scikit-learn/issues/21755 */display: inline-block !important;position: relative;}#sk-container-id-7 div.sk-text-repr-fallback {display: none;}</style><div id=\"sk-container-id-7\" class=\"sk-top-container\"><div class=\"sk-text-repr-fallback\"><pre>StandardScaler()</pre><b>In a Jupyter environment, please rerun this cell to show the HTML representation or trust the notebook. <br />On GitHub, the HTML representation is unable to render, please try loading this page with nbviewer.org.</b></div><div class=\"sk-container\" hidden><div class=\"sk-item\"><div class=\"sk-estimator sk-toggleable\"><input class=\"sk-toggleable__control sk-hidden--visually\" id=\"sk-estimator-id-11\" type=\"checkbox\" checked><label for=\"sk-estimator-id-11\" class=\"sk-toggleable__label sk-toggleable__label-arrow\">StandardScaler</label><div class=\"sk-toggleable__content\"><pre>StandardScaler()</pre></div></div></div></div></div>"
      ],
      "text/plain": [
       "StandardScaler()"
      ]
     },
     "execution_count": 124,
     "metadata": {},
     "output_type": "execute_result"
    }
   ],
   "source": [
    "# scaler\n",
    "\n",
    "scaler = StandardScaler()\n",
    "scaler.fit(X_normal_train)"
   ]
  },
  {
   "cell_type": "code",
   "execution_count": 125,
   "metadata": {},
   "outputs": [],
   "source": [
    "\n",
    "X_normal_train_scaled = pd.DataFrame(scaler.transform(X_normal_train), columns=columns_mean)\n",
    "X_normal_test_scaled = pd.DataFrame(scaler.transform(X_normal_test), columns=columns_mean)\n",
    "X_normal_hold_scaled = pd.DataFrame(scaler.transform(X_normal_hold), columns=columns_mean)"
   ]
  },
  {
   "cell_type": "code",
   "execution_count": 126,
   "metadata": {},
   "outputs": [
    {
     "data": {
      "text/html": [
       "<style>#sk-container-id-8 {color: black;background-color: white;}#sk-container-id-8 pre{padding: 0;}#sk-container-id-8 div.sk-toggleable {background-color: white;}#sk-container-id-8 label.sk-toggleable__label {cursor: pointer;display: block;width: 100%;margin-bottom: 0;padding: 0.3em;box-sizing: border-box;text-align: center;}#sk-container-id-8 label.sk-toggleable__label-arrow:before {content: \"▸\";float: left;margin-right: 0.25em;color: #696969;}#sk-container-id-8 label.sk-toggleable__label-arrow:hover:before {color: black;}#sk-container-id-8 div.sk-estimator:hover label.sk-toggleable__label-arrow:before {color: black;}#sk-container-id-8 div.sk-toggleable__content {max-height: 0;max-width: 0;overflow: hidden;text-align: left;background-color: #f0f8ff;}#sk-container-id-8 div.sk-toggleable__content pre {margin: 0.2em;color: black;border-radius: 0.25em;background-color: #f0f8ff;}#sk-container-id-8 input.sk-toggleable__control:checked~div.sk-toggleable__content {max-height: 200px;max-width: 100%;overflow: auto;}#sk-container-id-8 input.sk-toggleable__control:checked~label.sk-toggleable__label-arrow:before {content: \"▾\";}#sk-container-id-8 div.sk-estimator input.sk-toggleable__control:checked~label.sk-toggleable__label {background-color: #d4ebff;}#sk-container-id-8 div.sk-label input.sk-toggleable__control:checked~label.sk-toggleable__label {background-color: #d4ebff;}#sk-container-id-8 input.sk-hidden--visually {border: 0;clip: rect(1px 1px 1px 1px);clip: rect(1px, 1px, 1px, 1px);height: 1px;margin: -1px;overflow: hidden;padding: 0;position: absolute;width: 1px;}#sk-container-id-8 div.sk-estimator {font-family: monospace;background-color: #f0f8ff;border: 1px dotted black;border-radius: 0.25em;box-sizing: border-box;margin-bottom: 0.5em;}#sk-container-id-8 div.sk-estimator:hover {background-color: #d4ebff;}#sk-container-id-8 div.sk-parallel-item::after {content: \"\";width: 100%;border-bottom: 1px solid gray;flex-grow: 1;}#sk-container-id-8 div.sk-label:hover label.sk-toggleable__label {background-color: #d4ebff;}#sk-container-id-8 div.sk-serial::before {content: \"\";position: absolute;border-left: 1px solid gray;box-sizing: border-box;top: 0;bottom: 0;left: 50%;z-index: 0;}#sk-container-id-8 div.sk-serial {display: flex;flex-direction: column;align-items: center;background-color: white;padding-right: 0.2em;padding-left: 0.2em;position: relative;}#sk-container-id-8 div.sk-item {position: relative;z-index: 1;}#sk-container-id-8 div.sk-parallel {display: flex;align-items: stretch;justify-content: center;background-color: white;position: relative;}#sk-container-id-8 div.sk-item::before, #sk-container-id-8 div.sk-parallel-item::before {content: \"\";position: absolute;border-left: 1px solid gray;box-sizing: border-box;top: 0;bottom: 0;left: 50%;z-index: -1;}#sk-container-id-8 div.sk-parallel-item {display: flex;flex-direction: column;z-index: 1;position: relative;background-color: white;}#sk-container-id-8 div.sk-parallel-item:first-child::after {align-self: flex-end;width: 50%;}#sk-container-id-8 div.sk-parallel-item:last-child::after {align-self: flex-start;width: 50%;}#sk-container-id-8 div.sk-parallel-item:only-child::after {width: 0;}#sk-container-id-8 div.sk-dashed-wrapped {border: 1px dashed gray;margin: 0 0.4em 0.5em 0.4em;box-sizing: border-box;padding-bottom: 0.4em;background-color: white;}#sk-container-id-8 div.sk-label label {font-family: monospace;font-weight: bold;display: inline-block;line-height: 1.2em;}#sk-container-id-8 div.sk-label-container {text-align: center;}#sk-container-id-8 div.sk-container {/* jupyter's `normalize.less` sets `[hidden] { display: none; }` but bootstrap.min.css set `[hidden] { display: none !important; }` so we also need the `!important` here to be able to override the default hidden behavior on the sphinx rendered scikit-learn.org. See: https://github.com/scikit-learn/scikit-learn/issues/21755 */display: inline-block !important;position: relative;}#sk-container-id-8 div.sk-text-repr-fallback {display: none;}</style><div id=\"sk-container-id-8\" class=\"sk-top-container\"><div class=\"sk-text-repr-fallback\"><pre>RobustScaler()</pre><b>In a Jupyter environment, please rerun this cell to show the HTML representation or trust the notebook. <br />On GitHub, the HTML representation is unable to render, please try loading this page with nbviewer.org.</b></div><div class=\"sk-container\" hidden><div class=\"sk-item\"><div class=\"sk-estimator sk-toggleable\"><input class=\"sk-toggleable__control sk-hidden--visually\" id=\"sk-estimator-id-12\" type=\"checkbox\" checked><label for=\"sk-estimator-id-12\" class=\"sk-toggleable__label sk-toggleable__label-arrow\">RobustScaler</label><div class=\"sk-toggleable__content\"><pre>RobustScaler()</pre></div></div></div></div></div>"
      ],
      "text/plain": [
       "RobustScaler()"
      ]
     },
     "execution_count": 126,
     "metadata": {},
     "output_type": "execute_result"
    }
   ],
   "source": [
    "r_scaler = RobustScaler()\n",
    "r_scaler.fit(X_skewed_train)"
   ]
  },
  {
   "cell_type": "code",
   "execution_count": 127,
   "metadata": {},
   "outputs": [],
   "source": [
    "X_skewed_train_scaled = pd.DataFrame(r_scaler.transform(X_skewed_train), columns=columns_mode)\n",
    "X_skewed_test_scaled = pd.DataFrame(r_scaler.transform(X_skewed_test), columns=columns_mode)\n",
    "X_skewed_hold_scaled = pd.DataFrame(r_scaler.transform(X_skewed_hold), columns=columns_mode)"
   ]
  },
  {
   "cell_type": "code",
   "execution_count": 128,
   "metadata": {},
   "outputs": [],
   "source": [
    "# Combine them\n",
    "\n",
    "X_train_scaled_weather = pd.concat([X_normal_train_scaled , X_skewed_train_scaled], axis=1)\n",
    "X_test_scaled_weather = pd.concat([X_normal_test_scaled , X_skewed_test_scaled], axis=1)\n",
    "X_hold_scaled_weather = pd.concat([X_normal_hold_scaled, X_skewed_hold_scaled], axis=1)"
   ]
  },
  {
   "cell_type": "code",
   "execution_count": 129,
   "metadata": {},
   "outputs": [
    {
     "data": {
      "text/plain": [
       "(1139, 50)"
      ]
     },
     "execution_count": 129,
     "metadata": {},
     "output_type": "execute_result"
    }
   ],
   "source": [
    "X_train_scaled_weather.shape"
   ]
  },
  {
   "cell_type": "code",
   "execution_count": 130,
   "metadata": {},
   "outputs": [],
   "source": [
    "X_train_soil_reset_index = X_train_soil.reset_index(drop=True)\n",
    "X_test_soil_reset_index = X_test_soil.reset_index(drop=True)\n",
    "X_hold_soil_reset_index = X_hold_soil.reset_index(drop=True)"
   ]
  },
  {
   "cell_type": "code",
   "execution_count": 131,
   "metadata": {},
   "outputs": [],
   "source": [
    "# Combine weather and soil\n",
    "\n",
    "X_train_scaled = pd.concat([X_train_scaled_weather , X_train_soil_reset_index], axis=1)\n",
    "X_test_scaled = pd.concat([X_test_scaled_weather , X_test_soil_reset_index], axis=1)\n",
    "X_hold_scaled = pd.concat([X_hold_scaled_weather, X_hold_soil_reset_index], axis=1)"
   ]
  },
  {
   "cell_type": "code",
   "execution_count": 132,
   "metadata": {},
   "outputs": [
    {
     "data": {
      "text/plain": [
       "(1139, 104)"
      ]
     },
     "execution_count": 132,
     "metadata": {},
     "output_type": "execute_result"
    }
   ],
   "source": [
    "X_train_scaled.shape"
   ]
  },
  {
   "cell_type": "code",
   "execution_count": 133,
   "metadata": {},
   "outputs": [
    {
     "name": "stdout",
     "output_type": "stream",
     "text": [
      "EMXT_4\n",
      "EMXT_5\n",
      "EMXT_6\n",
      "EMXT_7\n",
      "EMXT_8\n",
      "EMXT_9\n",
      "EMXT_10\n",
      "TAVG_4\n",
      "TAVG_5\n",
      "TAVG_6\n",
      "TAVG_7\n",
      "TAVG_8\n",
      "TAVG_9\n",
      "TAVG_10\n",
      "DP01_4\n",
      "DP01_5\n",
      "DP01_6\n",
      "DP01_7\n",
      "DP01_8\n",
      "DP01_9\n",
      "DP01_10\n",
      "DP10_4\n",
      "DP10_5\n",
      "DP10_6\n",
      "DP10_7\n",
      "DP10_8\n",
      "DP10_9\n",
      "DP10_10\n",
      "DT32_4\n",
      "DT32_5\n",
      "DT32_10\n",
      "DX90_5\n",
      "DX90_6\n",
      "DX90_7\n",
      "DX90_8\n",
      "DX90_9\n",
      "EMXP_4\n",
      "EMXP_5\n",
      "EMXP_6\n",
      "EMXP_7\n",
      "EMXP_8\n",
      "EMXP_9\n",
      "EMXP_10\n",
      "PRCP_4\n",
      "PRCP_5\n",
      "PRCP_6\n",
      "PRCP_7\n",
      "PRCP_8\n",
      "PRCP_9\n",
      "PRCP_10\n",
      "AWS\n",
      "Representative_Non-Irrigated_Yield\n",
      "cec7_l\n",
      "ksat_l\n",
      "awc_l\n",
      "ph1to1h2o_l\n",
      "ec_l\n",
      "ec_r\n",
      "ec_h\n",
      "soil_type_Coarse-loamy, mixed, active, mesic Typic Hapludalfs\n",
      "soil_type_Coarse-loamy, mixed, superactive, mesic Mollic Hapludalfs\n",
      "soil_type_Euic, mesic Typic Haplosaprists\n",
      "soil_type_Fine, illitic, mesic Aeric Epiaqualfs\n",
      "soil_type_Fine, mixed, active, mesic Aeric Epiaqualfs\n",
      "soil_type_Fine, mixed, active, mesic Aquultic Hapludalfs\n",
      "soil_type_Fine, mixed, active, mesic Oxyaquic Hapludalfs\n",
      "soil_type_Fine, mixed, active, mesic Typic Hapludalfs\n",
      "soil_type_Fine-loamy, mixed, active, mesic Oxyaquic Argiudolls\n",
      "soil_type_Fine-loamy, mixed, active, mesic Oxyaquic Hapludalfs\n",
      "soil_type_Fine-loamy, mixed, active, mesic Typic Hapludalfs\n",
      "soil_type_Fine-loamy, mixed, superactive, mesic Aquic Argiudolls\n",
      "soil_type_Fine-silty, mixed, active, mesic Oxyaquic Fragiudalfs\n",
      "soil_type_Fine-silty, mixed, active, mesic Oxyaquic Hapludalfs\n",
      "soil_type_Fine-silty, mixed, active, mesic Ultic Hapludalfs\n",
      "soil_type_Fine-silty, mixed, superactive, mesic Typic Argiaquolls\n",
      "soil_type_Fine-silty, mixed, superactive, mesic Typic Hapludalfs\n",
      "soil_type_Fine-silty, mixed, superactive, mesic Ultic Hapludalfs\n",
      "soil_type_Loamy, mixed, active, mesic Arenic Hapludalfs\n",
      "soil_type_Mixed, mesic Aquic Udipsamments\n",
      "soil_type_Mixed, mesic Typic Udipsamments\n",
      "soil_type_Sandy, mixed, mesic Typic Endoaquolls\n",
      "Drainage_Somewhat poorly drained\n",
      "Drainage_Very poorly drained\n",
      "Drainage_Well drained\n",
      "texture_primary_Loam\n",
      "texture_primary_Loamy sand\n",
      "texture_primary_Sand\n",
      "texture_primary_Sandy loam\n",
      "texture_primary_Silt loam\n",
      "texture_primary_Silty clay loam\n",
      "texture_secondary_L\n",
      "texture_secondary_LS\n",
      "texture_secondary_S\n",
      "texture_secondary_SICL\n",
      "texture_secondary_SIL\n",
      "rvindicator_tex_Yes\n",
      "RoadwayRelevanceSoilGrade_A-4\n",
      "RoadwayRelevanceSoilGrade_A-6\n",
      "HumanErosion_Sheet erosion\n",
      "HumanErosion_Wind erosion\n",
      "MoisterClass_Udic\n",
      "Drainage_class_Somewhat poorly drained\n",
      "Drainage_class_Very poorly drained\n",
      "Drainage_class_Well drained\n"
     ]
    }
   ],
   "source": [
    "for i in X_train_scaled.columns:\n",
    "    print(i)"
   ]
  },
  {
   "cell_type": "markdown",
   "metadata": {},
   "source": [
    "## Gradient Boosting"
   ]
  },
  {
   "cell_type": "code",
   "execution_count": 134,
   "metadata": {},
   "outputs": [],
   "source": [
    "# Create a Gradient Boosting regressor\n",
    "gb_regressor_v2 = GradientBoostingRegressor()\n",
    "\n",
    "# Define a grid of hyperparameters to search\n",
    "param_grid = {\n",
    "    'n_estimators': [50, 100, 200],  # Number of boosting stages\n",
    "    'learning_rate': [0.01, 0.1, 0.5],  # Learning rate\n",
    "    'max_depth': [3, 5, 7]  # Maximum depth of the individual regression estimators\n",
    "}"
   ]
  },
  {
   "cell_type": "code",
   "execution_count": 135,
   "metadata": {},
   "outputs": [
    {
     "data": {
      "text/html": [
       "<style>#sk-container-id-9 {color: black;background-color: white;}#sk-container-id-9 pre{padding: 0;}#sk-container-id-9 div.sk-toggleable {background-color: white;}#sk-container-id-9 label.sk-toggleable__label {cursor: pointer;display: block;width: 100%;margin-bottom: 0;padding: 0.3em;box-sizing: border-box;text-align: center;}#sk-container-id-9 label.sk-toggleable__label-arrow:before {content: \"▸\";float: left;margin-right: 0.25em;color: #696969;}#sk-container-id-9 label.sk-toggleable__label-arrow:hover:before {color: black;}#sk-container-id-9 div.sk-estimator:hover label.sk-toggleable__label-arrow:before {color: black;}#sk-container-id-9 div.sk-toggleable__content {max-height: 0;max-width: 0;overflow: hidden;text-align: left;background-color: #f0f8ff;}#sk-container-id-9 div.sk-toggleable__content pre {margin: 0.2em;color: black;border-radius: 0.25em;background-color: #f0f8ff;}#sk-container-id-9 input.sk-toggleable__control:checked~div.sk-toggleable__content {max-height: 200px;max-width: 100%;overflow: auto;}#sk-container-id-9 input.sk-toggleable__control:checked~label.sk-toggleable__label-arrow:before {content: \"▾\";}#sk-container-id-9 div.sk-estimator input.sk-toggleable__control:checked~label.sk-toggleable__label {background-color: #d4ebff;}#sk-container-id-9 div.sk-label input.sk-toggleable__control:checked~label.sk-toggleable__label {background-color: #d4ebff;}#sk-container-id-9 input.sk-hidden--visually {border: 0;clip: rect(1px 1px 1px 1px);clip: rect(1px, 1px, 1px, 1px);height: 1px;margin: -1px;overflow: hidden;padding: 0;position: absolute;width: 1px;}#sk-container-id-9 div.sk-estimator {font-family: monospace;background-color: #f0f8ff;border: 1px dotted black;border-radius: 0.25em;box-sizing: border-box;margin-bottom: 0.5em;}#sk-container-id-9 div.sk-estimator:hover {background-color: #d4ebff;}#sk-container-id-9 div.sk-parallel-item::after {content: \"\";width: 100%;border-bottom: 1px solid gray;flex-grow: 1;}#sk-container-id-9 div.sk-label:hover label.sk-toggleable__label {background-color: #d4ebff;}#sk-container-id-9 div.sk-serial::before {content: \"\";position: absolute;border-left: 1px solid gray;box-sizing: border-box;top: 0;bottom: 0;left: 50%;z-index: 0;}#sk-container-id-9 div.sk-serial {display: flex;flex-direction: column;align-items: center;background-color: white;padding-right: 0.2em;padding-left: 0.2em;position: relative;}#sk-container-id-9 div.sk-item {position: relative;z-index: 1;}#sk-container-id-9 div.sk-parallel {display: flex;align-items: stretch;justify-content: center;background-color: white;position: relative;}#sk-container-id-9 div.sk-item::before, #sk-container-id-9 div.sk-parallel-item::before {content: \"\";position: absolute;border-left: 1px solid gray;box-sizing: border-box;top: 0;bottom: 0;left: 50%;z-index: -1;}#sk-container-id-9 div.sk-parallel-item {display: flex;flex-direction: column;z-index: 1;position: relative;background-color: white;}#sk-container-id-9 div.sk-parallel-item:first-child::after {align-self: flex-end;width: 50%;}#sk-container-id-9 div.sk-parallel-item:last-child::after {align-self: flex-start;width: 50%;}#sk-container-id-9 div.sk-parallel-item:only-child::after {width: 0;}#sk-container-id-9 div.sk-dashed-wrapped {border: 1px dashed gray;margin: 0 0.4em 0.5em 0.4em;box-sizing: border-box;padding-bottom: 0.4em;background-color: white;}#sk-container-id-9 div.sk-label label {font-family: monospace;font-weight: bold;display: inline-block;line-height: 1.2em;}#sk-container-id-9 div.sk-label-container {text-align: center;}#sk-container-id-9 div.sk-container {/* jupyter's `normalize.less` sets `[hidden] { display: none; }` but bootstrap.min.css set `[hidden] { display: none !important; }` so we also need the `!important` here to be able to override the default hidden behavior on the sphinx rendered scikit-learn.org. See: https://github.com/scikit-learn/scikit-learn/issues/21755 */display: inline-block !important;position: relative;}#sk-container-id-9 div.sk-text-repr-fallback {display: none;}</style><div id=\"sk-container-id-9\" class=\"sk-top-container\"><div class=\"sk-text-repr-fallback\"><pre>GridSearchCV(cv=5, estimator=GradientBoostingRegressor(), n_jobs=-1,\n",
       "             param_grid={&#x27;learning_rate&#x27;: [0.01, 0.1, 0.5],\n",
       "                         &#x27;max_depth&#x27;: [3, 5, 7],\n",
       "                         &#x27;n_estimators&#x27;: [50, 100, 200]},\n",
       "             scoring=&#x27;neg_mean_squared_error&#x27;)</pre><b>In a Jupyter environment, please rerun this cell to show the HTML representation or trust the notebook. <br />On GitHub, the HTML representation is unable to render, please try loading this page with nbviewer.org.</b></div><div class=\"sk-container\" hidden><div class=\"sk-item sk-dashed-wrapped\"><div class=\"sk-label-container\"><div class=\"sk-label sk-toggleable\"><input class=\"sk-toggleable__control sk-hidden--visually\" id=\"sk-estimator-id-13\" type=\"checkbox\" ><label for=\"sk-estimator-id-13\" class=\"sk-toggleable__label sk-toggleable__label-arrow\">GridSearchCV</label><div class=\"sk-toggleable__content\"><pre>GridSearchCV(cv=5, estimator=GradientBoostingRegressor(), n_jobs=-1,\n",
       "             param_grid={&#x27;learning_rate&#x27;: [0.01, 0.1, 0.5],\n",
       "                         &#x27;max_depth&#x27;: [3, 5, 7],\n",
       "                         &#x27;n_estimators&#x27;: [50, 100, 200]},\n",
       "             scoring=&#x27;neg_mean_squared_error&#x27;)</pre></div></div></div><div class=\"sk-parallel\"><div class=\"sk-parallel-item\"><div class=\"sk-item\"><div class=\"sk-label-container\"><div class=\"sk-label sk-toggleable\"><input class=\"sk-toggleable__control sk-hidden--visually\" id=\"sk-estimator-id-14\" type=\"checkbox\" ><label for=\"sk-estimator-id-14\" class=\"sk-toggleable__label sk-toggleable__label-arrow\">estimator: GradientBoostingRegressor</label><div class=\"sk-toggleable__content\"><pre>GradientBoostingRegressor()</pre></div></div></div><div class=\"sk-serial\"><div class=\"sk-item\"><div class=\"sk-estimator sk-toggleable\"><input class=\"sk-toggleable__control sk-hidden--visually\" id=\"sk-estimator-id-15\" type=\"checkbox\" ><label for=\"sk-estimator-id-15\" class=\"sk-toggleable__label sk-toggleable__label-arrow\">GradientBoostingRegressor</label><div class=\"sk-toggleable__content\"><pre>GradientBoostingRegressor()</pre></div></div></div></div></div></div></div></div></div></div>"
      ],
      "text/plain": [
       "GridSearchCV(cv=5, estimator=GradientBoostingRegressor(), n_jobs=-1,\n",
       "             param_grid={'learning_rate': [0.01, 0.1, 0.5],\n",
       "                         'max_depth': [3, 5, 7],\n",
       "                         'n_estimators': [50, 100, 200]},\n",
       "             scoring='neg_mean_squared_error')"
      ]
     },
     "execution_count": 135,
     "metadata": {},
     "output_type": "execute_result"
    }
   ],
   "source": [
    "# Perform grid search with 5-fold cross-validation\n",
    "grid_search_gb_v2 = GridSearchCV(gb_regressor_v2, param_grid, cv=5, scoring='neg_mean_squared_error', n_jobs=-1)\n",
    "grid_search_gb_v2.fit(X_train_scaled, y_train)"
   ]
  },
  {
   "cell_type": "code",
   "execution_count": 136,
   "metadata": {},
   "outputs": [
    {
     "data": {
      "text/html": [
       "<style>#sk-container-id-10 {color: black;background-color: white;}#sk-container-id-10 pre{padding: 0;}#sk-container-id-10 div.sk-toggleable {background-color: white;}#sk-container-id-10 label.sk-toggleable__label {cursor: pointer;display: block;width: 100%;margin-bottom: 0;padding: 0.3em;box-sizing: border-box;text-align: center;}#sk-container-id-10 label.sk-toggleable__label-arrow:before {content: \"▸\";float: left;margin-right: 0.25em;color: #696969;}#sk-container-id-10 label.sk-toggleable__label-arrow:hover:before {color: black;}#sk-container-id-10 div.sk-estimator:hover label.sk-toggleable__label-arrow:before {color: black;}#sk-container-id-10 div.sk-toggleable__content {max-height: 0;max-width: 0;overflow: hidden;text-align: left;background-color: #f0f8ff;}#sk-container-id-10 div.sk-toggleable__content pre {margin: 0.2em;color: black;border-radius: 0.25em;background-color: #f0f8ff;}#sk-container-id-10 input.sk-toggleable__control:checked~div.sk-toggleable__content {max-height: 200px;max-width: 100%;overflow: auto;}#sk-container-id-10 input.sk-toggleable__control:checked~label.sk-toggleable__label-arrow:before {content: \"▾\";}#sk-container-id-10 div.sk-estimator input.sk-toggleable__control:checked~label.sk-toggleable__label {background-color: #d4ebff;}#sk-container-id-10 div.sk-label input.sk-toggleable__control:checked~label.sk-toggleable__label {background-color: #d4ebff;}#sk-container-id-10 input.sk-hidden--visually {border: 0;clip: rect(1px 1px 1px 1px);clip: rect(1px, 1px, 1px, 1px);height: 1px;margin: -1px;overflow: hidden;padding: 0;position: absolute;width: 1px;}#sk-container-id-10 div.sk-estimator {font-family: monospace;background-color: #f0f8ff;border: 1px dotted black;border-radius: 0.25em;box-sizing: border-box;margin-bottom: 0.5em;}#sk-container-id-10 div.sk-estimator:hover {background-color: #d4ebff;}#sk-container-id-10 div.sk-parallel-item::after {content: \"\";width: 100%;border-bottom: 1px solid gray;flex-grow: 1;}#sk-container-id-10 div.sk-label:hover label.sk-toggleable__label {background-color: #d4ebff;}#sk-container-id-10 div.sk-serial::before {content: \"\";position: absolute;border-left: 1px solid gray;box-sizing: border-box;top: 0;bottom: 0;left: 50%;z-index: 0;}#sk-container-id-10 div.sk-serial {display: flex;flex-direction: column;align-items: center;background-color: white;padding-right: 0.2em;padding-left: 0.2em;position: relative;}#sk-container-id-10 div.sk-item {position: relative;z-index: 1;}#sk-container-id-10 div.sk-parallel {display: flex;align-items: stretch;justify-content: center;background-color: white;position: relative;}#sk-container-id-10 div.sk-item::before, #sk-container-id-10 div.sk-parallel-item::before {content: \"\";position: absolute;border-left: 1px solid gray;box-sizing: border-box;top: 0;bottom: 0;left: 50%;z-index: -1;}#sk-container-id-10 div.sk-parallel-item {display: flex;flex-direction: column;z-index: 1;position: relative;background-color: white;}#sk-container-id-10 div.sk-parallel-item:first-child::after {align-self: flex-end;width: 50%;}#sk-container-id-10 div.sk-parallel-item:last-child::after {align-self: flex-start;width: 50%;}#sk-container-id-10 div.sk-parallel-item:only-child::after {width: 0;}#sk-container-id-10 div.sk-dashed-wrapped {border: 1px dashed gray;margin: 0 0.4em 0.5em 0.4em;box-sizing: border-box;padding-bottom: 0.4em;background-color: white;}#sk-container-id-10 div.sk-label label {font-family: monospace;font-weight: bold;display: inline-block;line-height: 1.2em;}#sk-container-id-10 div.sk-label-container {text-align: center;}#sk-container-id-10 div.sk-container {/* jupyter's `normalize.less` sets `[hidden] { display: none; }` but bootstrap.min.css set `[hidden] { display: none !important; }` so we also need the `!important` here to be able to override the default hidden behavior on the sphinx rendered scikit-learn.org. See: https://github.com/scikit-learn/scikit-learn/issues/21755 */display: inline-block !important;position: relative;}#sk-container-id-10 div.sk-text-repr-fallback {display: none;}</style><div id=\"sk-container-id-10\" class=\"sk-top-container\"><div class=\"sk-text-repr-fallback\"><pre>GradientBoostingRegressor(max_depth=5, n_estimators=200)</pre><b>In a Jupyter environment, please rerun this cell to show the HTML representation or trust the notebook. <br />On GitHub, the HTML representation is unable to render, please try loading this page with nbviewer.org.</b></div><div class=\"sk-container\" hidden><div class=\"sk-item\"><div class=\"sk-estimator sk-toggleable\"><input class=\"sk-toggleable__control sk-hidden--visually\" id=\"sk-estimator-id-16\" type=\"checkbox\" checked><label for=\"sk-estimator-id-16\" class=\"sk-toggleable__label sk-toggleable__label-arrow\">GradientBoostingRegressor</label><div class=\"sk-toggleable__content\"><pre>GradientBoostingRegressor(max_depth=5, n_estimators=200)</pre></div></div></div></div></div>"
      ],
      "text/plain": [
       "GradientBoostingRegressor(max_depth=5, n_estimators=200)"
      ]
     },
     "execution_count": 136,
     "metadata": {},
     "output_type": "execute_result"
    }
   ],
   "source": [
    "# Make predictions on the testing data using the best model\n",
    "best_params_gb_v2 = grid_search_gb_v2.best_estimator_\n",
    "gb_pred_v2 = best_params_gb_v2.predict(X_test_scaled)\n",
    "\n",
    "best_params_gb_v2"
   ]
  },
  {
   "cell_type": "code",
   "execution_count": 137,
   "metadata": {},
   "outputs": [
    {
     "data": {
      "image/png": "[encoded data removed]",
      "text/plain": [
       "<Figure size 640x480 with 1 Axes>"
      ]
     },
     "metadata": {},
     "output_type": "display_data"
    }
   ],
   "source": [
    "residuals_gb_v2 = y_test - gb_pred_v2\n",
    "plt.scatter(gb_pred_v2, residuals_gb_v2)\n",
    "plt.xlabel('Predicted')\n",
    "plt.ylabel('Residuals')\n",
    "plt.axhline(y=0, color='red', linestyle='--')  # Horizontal line at y=0\n",
    "plt.title('Residual Plot')\n",
    "plt.show()"
   ]
  },
  {
   "cell_type": "code",
   "execution_count": 138,
   "metadata": {},
   "outputs": [
    {
     "name": "stdout",
     "output_type": "stream",
     "text": [
      "Mean Squared Error: 189.65702065962515\n",
      "R-squared: 0.7524953208195397\n"
     ]
    }
   ],
   "source": [
    "mse = mean_squared_error(y_test , gb_pred_v2)\n",
    "r2 = r2_score(y_test, gb_pred_v2)\n",
    "\n",
    "print(\"Mean Squared Error:\", mse)\n",
    "print(\"R-squared:\", r2)"
   ]
  },
  {
   "cell_type": "markdown",
   "metadata": {},
   "source": [
    "## Testing for GB (Unseen data)"
   ]
  },
  {
   "cell_type": "code",
   "execution_count": 139,
   "metadata": {},
   "outputs": [
    {
     "data": {
      "image/png": "[encoded data removed]",
      "text/plain": [
       "<Figure size 640x480 with 1 Axes>"
      ]
     },
     "metadata": {},
     "output_type": "display_data"
    }
   ],
   "source": [
    "best_predictions_gb_hold_v2 = best_params_gb_v2.predict(X_hold_scaled)\n",
    "\n",
    "residuals_gb_hold_v2 = y_hold - best_predictions_gb_hold_v2\n",
    "plt.scatter(best_predictions_gb_hold_v2, residuals_gb_hold_v2)\n",
    "plt.xlabel('Predicted')\n",
    "plt.ylabel('Residuals')\n",
    "plt.axhline(y=0, color='red', linestyle='--')  # Horizontal line at y=0\n",
    "plt.title('Residual Plot')\n",
    "plt.show()"
   ]
  },
  {
   "cell_type": "code",
   "execution_count": 140,
   "metadata": {},
   "outputs": [
    {
     "name": "stdout",
     "output_type": "stream",
     "text": [
      "Mean Squared Error: 361.54711423758806\n",
      "R-squared: 0.3319100244939578\n"
     ]
    }
   ],
   "source": [
    "mse = mean_squared_error(y_hold , best_predictions_gb_hold_v2 )\n",
    "r2 = r2_score(y_hold, best_predictions_gb_hold_v2)\n",
    "\n",
    "print(\"Mean Squared Error:\", mse)\n",
    "print(\"R-squared:\", r2)"
   ]
  },
  {
   "cell_type": "markdown",
   "metadata": {},
   "source": [
    "## Relevant Soil Features"
   ]
  },
  {
   "cell_type": "code",
   "execution_count": 141,
   "metadata": {},
   "outputs": [],
   "source": [
    "relevant_soil = [\"Ph1to1h2o_l\", \"AWS\", \"Representative_Non-Irrigated_Yield\", \"ksat_\"]"
   ]
  },
  {
   "cell_type": "code",
   "execution_count": 144,
   "metadata": {},
   "outputs": [],
   "source": [
    "all_soil_features = list(soil_cleaned.columns)"
   ]
  },
  {
   "cell_type": "code",
   "execution_count": 147,
   "metadata": {},
   "outputs": [],
   "source": [
    "not_relevant_soil_features = list(set(all_soil_features) - set(relevant_soil))"
   ]
  },
  {
   "cell_type": "code",
   "execution_count": 149,
   "metadata": {},
   "outputs": [],
   "source": [
    "not_relevant_soil_features.remove(\"County\")"
   ]
  },
  {
   "cell_type": "code",
   "execution_count": 150,
   "metadata": {},
   "outputs": [],
   "source": [
    "'''\n",
    "X_train_scaled \n",
    "X_test_scaled \n",
    "X_hold_scaled \n",
    "'''\n",
    "\n",
    "X_train_scaled_v2 = X_train_scaled.drop(columns=not_relevant_soil_features, axis=1)\n",
    "X_test_scaled_v2 = X_test_scaled.drop(columns=not_relevant_soil_features, axis=1)\n",
    "X_hold_scaled_v2 = X_hold_scaled.drop(columns=not_relevant_soil_features, axis=1)"
   ]
  },
  {
   "cell_type": "markdown",
   "metadata": {},
   "source": [
    "## Second GB"
   ]
  },
  {
   "cell_type": "code",
   "execution_count": 151,
   "metadata": {},
   "outputs": [],
   "source": [
    "# Create a Gradient Boosting regressor\n",
    "gb_regressor_v2 = GradientBoostingRegressor()\n",
    "\n",
    "# Define a grid of hyperparameters to search\n",
    "param_grid = {\n",
    "    'n_estimators': [50, 100, 200],  # Number of boosting stages\n",
    "    'learning_rate': [0.01, 0.1, 0.5],  # Learning rate\n",
    "    'max_depth': [3, 5, 7]  # Maximum depth of the individual regression estimators\n",
    "}"
   ]
  },
  {
   "cell_type": "code",
   "execution_count": 152,
   "metadata": {},
   "outputs": [
    {
     "data": {
      "text/html": [
       "<style>#sk-container-id-11 {color: black;background-color: white;}#sk-container-id-11 pre{padding: 0;}#sk-container-id-11 div.sk-toggleable {background-color: white;}#sk-container-id-11 label.sk-toggleable__label {cursor: pointer;display: block;width: 100%;margin-bottom: 0;padding: 0.3em;box-sizing: border-box;text-align: center;}#sk-container-id-11 label.sk-toggleable__label-arrow:before {content: \"▸\";float: left;margin-right: 0.25em;color: #696969;}#sk-container-id-11 label.sk-toggleable__label-arrow:hover:before {color: black;}#sk-container-id-11 div.sk-estimator:hover label.sk-toggleable__label-arrow:before {color: black;}#sk-container-id-11 div.sk-toggleable__content {max-height: 0;max-width: 0;overflow: hidden;text-align: left;background-color: #f0f8ff;}#sk-container-id-11 div.sk-toggleable__content pre {margin: 0.2em;color: black;border-radius: 0.25em;background-color: #f0f8ff;}#sk-container-id-11 input.sk-toggleable__control:checked~div.sk-toggleable__content {max-height: 200px;max-width: 100%;overflow: auto;}#sk-container-id-11 input.sk-toggleable__control:checked~label.sk-toggleable__label-arrow:before {content: \"▾\";}#sk-container-id-11 div.sk-estimator input.sk-toggleable__control:checked~label.sk-toggleable__label {background-color: #d4ebff;}#sk-container-id-11 div.sk-label input.sk-toggleable__control:checked~label.sk-toggleable__label {background-color: #d4ebff;}#sk-container-id-11 input.sk-hidden--visually {border: 0;clip: rect(1px 1px 1px 1px);clip: rect(1px, 1px, 1px, 1px);height: 1px;margin: -1px;overflow: hidden;padding: 0;position: absolute;width: 1px;}#sk-container-id-11 div.sk-estimator {font-family: monospace;background-color: #f0f8ff;border: 1px dotted black;border-radius: 0.25em;box-sizing: border-box;margin-bottom: 0.5em;}#sk-container-id-11 div.sk-estimator:hover {background-color: #d4ebff;}#sk-container-id-11 div.sk-parallel-item::after {content: \"\";width: 100%;border-bottom: 1px solid gray;flex-grow: 1;}#sk-container-id-11 div.sk-label:hover label.sk-toggleable__label {background-color: #d4ebff;}#sk-container-id-11 div.sk-serial::before {content: \"\";position: absolute;border-left: 1px solid gray;box-sizing: border-box;top: 0;bottom: 0;left: 50%;z-index: 0;}#sk-container-id-11 div.sk-serial {display: flex;flex-direction: column;align-items: center;background-color: white;padding-right: 0.2em;padding-left: 0.2em;position: relative;}#sk-container-id-11 div.sk-item {position: relative;z-index: 1;}#sk-container-id-11 div.sk-parallel {display: flex;align-items: stretch;justify-content: center;background-color: white;position: relative;}#sk-container-id-11 div.sk-item::before, #sk-container-id-11 div.sk-parallel-item::before {content: \"\";position: absolute;border-left: 1px solid gray;box-sizing: border-box;top: 0;bottom: 0;left: 50%;z-index: -1;}#sk-container-id-11 div.sk-parallel-item {display: flex;flex-direction: column;z-index: 1;position: relative;background-color: white;}#sk-container-id-11 div.sk-parallel-item:first-child::after {align-self: flex-end;width: 50%;}#sk-container-id-11 div.sk-parallel-item:last-child::after {align-self: flex-start;width: 50%;}#sk-container-id-11 div.sk-parallel-item:only-child::after {width: 0;}#sk-container-id-11 div.sk-dashed-wrapped {border: 1px dashed gray;margin: 0 0.4em 0.5em 0.4em;box-sizing: border-box;padding-bottom: 0.4em;background-color: white;}#sk-container-id-11 div.sk-label label {font-family: monospace;font-weight: bold;display: inline-block;line-height: 1.2em;}#sk-container-id-11 div.sk-label-container {text-align: center;}#sk-container-id-11 div.sk-container {/* jupyter's `normalize.less` sets `[hidden] { display: none; }` but bootstrap.min.css set `[hidden] { display: none !important; }` so we also need the `!important` here to be able to override the default hidden behavior on the sphinx rendered scikit-learn.org. See: https://github.com/scikit-learn/scikit-learn/issues/21755 */display: inline-block !important;position: relative;}#sk-container-id-11 div.sk-text-repr-fallback {display: none;}</style><div id=\"sk-container-id-11\" class=\"sk-top-container\"><div class=\"sk-text-repr-fallback\"><pre>GridSearchCV(cv=5, estimator=GradientBoostingRegressor(), n_jobs=-1,\n",
       "             param_grid={&#x27;learning_rate&#x27;: [0.01, 0.1, 0.5],\n",
       "                         &#x27;max_depth&#x27;: [3, 5, 7],\n",
       "                         &#x27;n_estimators&#x27;: [50, 100, 200]},\n",
       "             scoring=&#x27;neg_mean_squared_error&#x27;)</pre><b>In a Jupyter environment, please rerun this cell to show the HTML representation or trust the notebook. <br />On GitHub, the HTML representation is unable to render, please try loading this page with nbviewer.org.</b></div><div class=\"sk-container\" hidden><div class=\"sk-item sk-dashed-wrapped\"><div class=\"sk-label-container\"><div class=\"sk-label sk-toggleable\"><input class=\"sk-toggleable__control sk-hidden--visually\" id=\"sk-estimator-id-17\" type=\"checkbox\" ><label for=\"sk-estimator-id-17\" class=\"sk-toggleable__label sk-toggleable__label-arrow\">GridSearchCV</label><div class=\"sk-toggleable__content\"><pre>GridSearchCV(cv=5, estimator=GradientBoostingRegressor(), n_jobs=-1,\n",
       "             param_grid={&#x27;learning_rate&#x27;: [0.01, 0.1, 0.5],\n",
       "                         &#x27;max_depth&#x27;: [3, 5, 7],\n",
       "                         &#x27;n_estimators&#x27;: [50, 100, 200]},\n",
       "             scoring=&#x27;neg_mean_squared_error&#x27;)</pre></div></div></div><div class=\"sk-parallel\"><div class=\"sk-parallel-item\"><div class=\"sk-item\"><div class=\"sk-label-container\"><div class=\"sk-label sk-toggleable\"><input class=\"sk-toggleable__control sk-hidden--visually\" id=\"sk-estimator-id-18\" type=\"checkbox\" ><label for=\"sk-estimator-id-18\" class=\"sk-toggleable__label sk-toggleable__label-arrow\">estimator: GradientBoostingRegressor</label><div class=\"sk-toggleable__content\"><pre>GradientBoostingRegressor()</pre></div></div></div><div class=\"sk-serial\"><div class=\"sk-item\"><div class=\"sk-estimator sk-toggleable\"><input class=\"sk-toggleable__control sk-hidden--visually\" id=\"sk-estimator-id-19\" type=\"checkbox\" ><label for=\"sk-estimator-id-19\" class=\"sk-toggleable__label sk-toggleable__label-arrow\">GradientBoostingRegressor</label><div class=\"sk-toggleable__content\"><pre>GradientBoostingRegressor()</pre></div></div></div></div></div></div></div></div></div></div>"
      ],
      "text/plain": [
       "GridSearchCV(cv=5, estimator=GradientBoostingRegressor(), n_jobs=-1,\n",
       "             param_grid={'learning_rate': [0.01, 0.1, 0.5],\n",
       "                         'max_depth': [3, 5, 7],\n",
       "                         'n_estimators': [50, 100, 200]},\n",
       "             scoring='neg_mean_squared_error')"
      ]
     },
     "execution_count": 152,
     "metadata": {},
     "output_type": "execute_result"
    }
   ],
   "source": [
    "# Perform grid search with 5-fold cross-validation\n",
    "grid_search_gb_v2 = GridSearchCV(gb_regressor_v2, param_grid, cv=5, scoring='neg_mean_squared_error', n_jobs=-1)\n",
    "\n",
    "#change here\n",
    "grid_search_gb_v2.fit(X_train_scaled_v2, y_train) "
   ]
  },
  {
   "cell_type": "code",
   "execution_count": 153,
   "metadata": {},
   "outputs": [
    {
     "data": {
      "text/html": [
       "<style>#sk-container-id-12 {color: black;background-color: white;}#sk-container-id-12 pre{padding: 0;}#sk-container-id-12 div.sk-toggleable {background-color: white;}#sk-container-id-12 label.sk-toggleable__label {cursor: pointer;display: block;width: 100%;margin-bottom: 0;padding: 0.3em;box-sizing: border-box;text-align: center;}#sk-container-id-12 label.sk-toggleable__label-arrow:before {content: \"▸\";float: left;margin-right: 0.25em;color: #696969;}#sk-container-id-12 label.sk-toggleable__label-arrow:hover:before {color: black;}#sk-container-id-12 div.sk-estimator:hover label.sk-toggleable__label-arrow:before {color: black;}#sk-container-id-12 div.sk-toggleable__content {max-height: 0;max-width: 0;overflow: hidden;text-align: left;background-color: #f0f8ff;}#sk-container-id-12 div.sk-toggleable__content pre {margin: 0.2em;color: black;border-radius: 0.25em;background-color: #f0f8ff;}#sk-container-id-12 input.sk-toggleable__control:checked~div.sk-toggleable__content {max-height: 200px;max-width: 100%;overflow: auto;}#sk-container-id-12 input.sk-toggleable__control:checked~label.sk-toggleable__label-arrow:before {content: \"▾\";}#sk-container-id-12 div.sk-estimator input.sk-toggleable__control:checked~label.sk-toggleable__label {background-color: #d4ebff;}#sk-container-id-12 div.sk-label input.sk-toggleable__control:checked~label.sk-toggleable__label {background-color: #d4ebff;}#sk-container-id-12 input.sk-hidden--visually {border: 0;clip: rect(1px 1px 1px 1px);clip: rect(1px, 1px, 1px, 1px);height: 1px;margin: -1px;overflow: hidden;padding: 0;position: absolute;width: 1px;}#sk-container-id-12 div.sk-estimator {font-family: monospace;background-color: #f0f8ff;border: 1px dotted black;border-radius: 0.25em;box-sizing: border-box;margin-bottom: 0.5em;}#sk-container-id-12 div.sk-estimator:hover {background-color: #d4ebff;}#sk-container-id-12 div.sk-parallel-item::after {content: \"\";width: 100%;border-bottom: 1px solid gray;flex-grow: 1;}#sk-container-id-12 div.sk-label:hover label.sk-toggleable__label {background-color: #d4ebff;}#sk-container-id-12 div.sk-serial::before {content: \"\";position: absolute;border-left: 1px solid gray;box-sizing: border-box;top: 0;bottom: 0;left: 50%;z-index: 0;}#sk-container-id-12 div.sk-serial {display: flex;flex-direction: column;align-items: center;background-color: white;padding-right: 0.2em;padding-left: 0.2em;position: relative;}#sk-container-id-12 div.sk-item {position: relative;z-index: 1;}#sk-container-id-12 div.sk-parallel {display: flex;align-items: stretch;justify-content: center;background-color: white;position: relative;}#sk-container-id-12 div.sk-item::before, #sk-container-id-12 div.sk-parallel-item::before {content: \"\";position: absolute;border-left: 1px solid gray;box-sizing: border-box;top: 0;bottom: 0;left: 50%;z-index: -1;}#sk-container-id-12 div.sk-parallel-item {display: flex;flex-direction: column;z-index: 1;position: relative;background-color: white;}#sk-container-id-12 div.sk-parallel-item:first-child::after {align-self: flex-end;width: 50%;}#sk-container-id-12 div.sk-parallel-item:last-child::after {align-self: flex-start;width: 50%;}#sk-container-id-12 div.sk-parallel-item:only-child::after {width: 0;}#sk-container-id-12 div.sk-dashed-wrapped {border: 1px dashed gray;margin: 0 0.4em 0.5em 0.4em;box-sizing: border-box;padding-bottom: 0.4em;background-color: white;}#sk-container-id-12 div.sk-label label {font-family: monospace;font-weight: bold;display: inline-block;line-height: 1.2em;}#sk-container-id-12 div.sk-label-container {text-align: center;}#sk-container-id-12 div.sk-container {/* jupyter's `normalize.less` sets `[hidden] { display: none; }` but bootstrap.min.css set `[hidden] { display: none !important; }` so we also need the `!important` here to be able to override the default hidden behavior on the sphinx rendered scikit-learn.org. See: https://github.com/scikit-learn/scikit-learn/issues/21755 */display: inline-block !important;position: relative;}#sk-container-id-12 div.sk-text-repr-fallback {display: none;}</style><div id=\"sk-container-id-12\" class=\"sk-top-container\"><div class=\"sk-text-repr-fallback\"><pre>GradientBoostingRegressor(n_estimators=200)</pre><b>In a Jupyter environment, please rerun this cell to show the HTML representation or trust the notebook. <br />On GitHub, the HTML representation is unable to render, please try loading this page with nbviewer.org.</b></div><div class=\"sk-container\" hidden><div class=\"sk-item\"><div class=\"sk-estimator sk-toggleable\"><input class=\"sk-toggleable__control sk-hidden--visually\" id=\"sk-estimator-id-20\" type=\"checkbox\" checked><label for=\"sk-estimator-id-20\" class=\"sk-toggleable__label sk-toggleable__label-arrow\">GradientBoostingRegressor</label><div class=\"sk-toggleable__content\"><pre>GradientBoostingRegressor(n_estimators=200)</pre></div></div></div></div></div>"
      ],
      "text/plain": [
       "GradientBoostingRegressor(n_estimators=200)"
      ]
     },
     "execution_count": 153,
     "metadata": {},
     "output_type": "execute_result"
    }
   ],
   "source": [
    "# Make predictions on the testing data using the best model\n",
    "best_params_gb_v2 = grid_search_gb_v2.best_estimator_\n",
    "gb_pred_v2 = best_params_gb_v2.predict(X_test_scaled_v2)\n",
    "\n",
    "best_params_gb_v2"
   ]
  },
  {
   "cell_type": "code",
   "execution_count": 154,
   "metadata": {},
   "outputs": [
    {
     "data": {
      "image/png": "[encoded data removed]",
      "text/plain": [
       "<Figure size 640x480 with 1 Axes>"
      ]
     },
     "metadata": {},
     "output_type": "display_data"
    }
   ],
   "source": [
    "residuals_gb_v2 = y_test - gb_pred_v2\n",
    "plt.scatter(gb_pred_v2, residuals_gb_v2)\n",
    "plt.xlabel('Predicted')\n",
    "plt.ylabel('Residuals')\n",
    "plt.axhline(y=0, color='red', linestyle='--')  # Horizontal line at y=0\n",
    "plt.title('Residual Plot')\n",
    "plt.show()"
   ]
  },
  {
   "cell_type": "code",
   "execution_count": 155,
   "metadata": {},
   "outputs": [
    {
     "name": "stdout",
     "output_type": "stream",
     "text": [
      "Mean Squared Error: 220.06628881381403\n",
      "R-squared: 0.7128108623563716\n"
     ]
    }
   ],
   "source": [
    "mse = mean_squared_error(y_test , gb_pred_v2)\n",
    "r2 = r2_score(y_test, gb_pred_v2)\n",
    "\n",
    "print(\"Mean Squared Error:\", mse)\n",
    "print(\"R-squared:\", r2)"
   ]
  },
  {
   "cell_type": "markdown",
   "metadata": {},
   "source": [
    "## Testing for GB (Unseen data)"
   ]
  },
  {
   "cell_type": "code",
   "execution_count": 156,
   "metadata": {},
   "outputs": [
    {
     "data": {
      "image/png": "[encoded data removed]",
      "text/plain": [
       "<Figure size 640x480 with 1 Axes>"
      ]
     },
     "metadata": {},
     "output_type": "display_data"
    }
   ],
   "source": [
    "best_predictions_gb_hold_v2 = best_params_gb_v2.predict(X_hold_scaled_v2)\n",
    "\n",
    "residuals_gb_hold_v2 = y_hold - best_predictions_gb_hold_v2\n",
    "plt.scatter(best_predictions_gb_hold_v2, residuals_gb_hold_v2)\n",
    "plt.xlabel('Predicted')\n",
    "plt.ylabel('Residuals')\n",
    "plt.axhline(y=0, color='red', linestyle='--')  # Horizontal line at y=0\n",
    "plt.title('Residual Plot')\n",
    "plt.show()"
   ]
  },
  {
   "cell_type": "code",
   "execution_count": 157,
   "metadata": {},
   "outputs": [
    {
     "name": "stdout",
     "output_type": "stream",
     "text": [
      "Mean Squared Error: 354.8121362182163\n",
      "R-squared: 0.3443553493846965\n"
     ]
    }
   ],
   "source": [
    "mse = mean_squared_error(y_hold , best_predictions_gb_hold_v2 )\n",
    "r2 = r2_score(y_hold, best_predictions_gb_hold_v2)\n",
    "\n",
    "print(\"Mean Squared Error:\", mse)\n",
    "print(\"R-squared:\", r2)"
   ]
  },
  {
   "cell_type": "code",
   "execution_count": 158,
   "metadata": {},
   "outputs": [
    {
     "name": "stdout",
     "output_type": "stream",
     "text": [
      "Feature: EMXT_6, Importance: 0.14576947406553448\n",
      "Feature: DP10_6, Importance: 0.08603143969817906\n",
      "Feature: DP01_7, Importance: 0.07669832468381585\n",
      "Feature: PRCP_6, Importance: 0.062434158805671235\n",
      "Feature: Representative_Non-Irrigated_Yield, Importance: 0.05833588156891298\n",
      "Feature: DP01_10, Importance: 0.051637561480104996\n",
      "Feature: PRCP_5, Importance: 0.04419242974395256\n",
      "Feature: DP10_7, Importance: 0.039405948686926456\n",
      "Feature: PRCP_7, Importance: 0.03078528231182575\n",
      "Feature: DP01_5, Importance: 0.02652215044123848\n",
      "Feature: EMXT_8, Importance: 0.026076786339137365\n",
      "Feature: DP01_6, Importance: 0.02185329578839148\n",
      "Feature: EMXP_5, Importance: 0.019606084253015472\n",
      "Feature: EMXT_5, Importance: 0.01927721969678163\n",
      "Feature: DP10_9, Importance: 0.017577438981198623\n",
      "Feature: DP10_10, Importance: 0.01733000447369085\n",
      "Feature: AWS, Importance: 0.01604176716340352\n",
      "Feature: EMXT_4, Importance: 0.015805938664714622\n",
      "Feature: EMXP_9, Importance: 0.014161982258528237\n",
      "Feature: DP01_4, Importance: 0.01372841427351436\n",
      "Feature: DP01_9, Importance: 0.012982431925942832\n",
      "Feature: TAVG_5, Importance: 0.012220281617746787\n",
      "Feature: EMXT_7, Importance: 0.012148544242631957\n",
      "Feature: DP10_5, Importance: 0.010980049570727797\n",
      "Feature: DT32_4, Importance: 0.010004149609339808\n",
      "Feature: TAVG_4, Importance: 0.009467812163894973\n",
      "Feature: EMXP_8, Importance: 0.00926053160944139\n",
      "Feature: PRCP_9, Importance: 0.00860225360226238\n",
      "Feature: TAVG_10, Importance: 0.008504790801290988\n",
      "Feature: DP01_8, Importance: 0.0084242662184312\n",
      "Feature: PRCP_10, Importance: 0.00804620243643171\n",
      "Feature: DP10_8, Importance: 0.007826374544592358\n",
      "Feature: EMXP_10, Importance: 0.007625079644262733\n",
      "Feature: PRCP_4, Importance: 0.007467584416893102\n",
      "Feature: TAVG_6, Importance: 0.007336264644240498\n",
      "Feature: EMXP_4, Importance: 0.006889976152547307\n",
      "Feature: EMXP_6, Importance: 0.005656825401428151\n",
      "Feature: TAVG_9, Importance: 0.005547399305346308\n",
      "Feature: DX90_8, Importance: 0.005475758788246776\n",
      "Feature: EMXT_10, Importance: 0.005066774875095763\n",
      "Feature: EMXP_7, Importance: 0.004741051674121268\n",
      "Feature: TAVG_7, Importance: 0.004572248265881184\n",
      "Feature: PRCP_8, Importance: 0.004124627787945793\n",
      "Feature: DT32_10, Importance: 0.0031288140724151053\n",
      "Feature: TAVG_8, Importance: 0.002771591918795148\n",
      "Feature: DP10_4, Importance: 0.0025542204927915747\n",
      "Feature: DX90_7, Importance: 0.00192364585511406\n",
      "Feature: DX90_5, Importance: 0.001248183083642606\n",
      "Feature: DX90_9, Importance: 0.0012472547335155228\n",
      "Feature: EMXT_9, Importance: 0.0006663114364042312\n",
      "Feature: DX90_6, Importance: 0.00014282309373485642\n",
      "Feature: DT32_5, Importance: 7.429263630583788e-05\n"
     ]
    }
   ],
   "source": [
    "# Get the best estimator from grid search\n",
    "best_estimator = grid_search_gb_v2.best_estimator_\n",
    "\n",
    "# Extract feature importance from the best estimator\n",
    "feature_importance = best_estimator.feature_importances_\n",
    "\n",
    "# Get the feature names\n",
    "feature_names = X_train_scaled_v2.columns\n",
    "\n",
    "# Sort feature importance by importance values in descending order\n",
    "sorted_indices = np.argsort(feature_importance)[::-1]\n",
    "\n",
    "# Print feature importance starting with the highest score\n",
    "for index in sorted_indices:\n",
    "    print(f\"Feature: {feature_names[index]}, Importance: {feature_importance[index]}\")"
   ]
  },
  {
   "cell_type": "code",
   "execution_count": 160,
   "metadata": {},
   "outputs": [
    {
     "name": "stdout",
     "output_type": "stream",
     "text": [
      "['EMXT_6', 'DP10_6', 'DP01_7', 'PRCP_6', 'Representative_Non-Irrigated_Yield', 'DP01_10', 'PRCP_5', 'DP10_7', 'PRCP_7', 'DP01_5', 'EMXT_8', 'DP01_6', 'EMXP_5', 'EMXT_5', 'DP10_9', 'DP10_10', 'AWS', 'EMXT_4', 'EMXP_9', 'DP01_4', 'DP01_9', 'TAVG_5', 'EMXT_7', 'DP10_5', 'DT32_4', 'TAVG_4', 'EMXP_8', 'PRCP_9', 'TAVG_10', 'DP01_8', 'PRCP_10', 'DP10_8', 'EMXP_10', 'PRCP_4', 'TAVG_6', 'EMXP_4', 'EMXP_6', 'TAVG_9', 'DX90_8', 'EMXT_10', 'EMXP_7', 'TAVG_7', 'PRCP_8', 'DT32_10', 'TAVG_8', 'DP10_4', 'DX90_7', 'DX90_5', 'DX90_9', 'EMXT_9', 'DX90_6', 'DT32_5']\n"
     ]
    }
   ],
   "source": [
    "# Sort feature names based on sorted indices\n",
    "sorted_feature_names = [feature_names[i] for i in sorted_indices]\n",
    "\n",
    "# Print the sorted feature names\n",
    "print(sorted_feature_names)"
   ]
  },
  {
   "cell_type": "code",
   "execution_count": 193,
   "metadata": {},
   "outputs": [],
   "source": [
    "first_25_elements = sorted_feature_names[:45]"
   ]
  },
  {
   "cell_type": "code",
   "execution_count": 194,
   "metadata": {},
   "outputs": [],
   "source": [
    "'''\n",
    "\n",
    "X_train_scaled_v2 = X_train_scaled.drop(columns=not_relevant_soil_features, axis=1)\n",
    "X_test_scaled_v2 = X_test_scaled.drop(columns=not_relevant_soil_features, axis=1)\n",
    "X_hold_scaled_v2 = X_hold_scaled.drop(columns=not_relevant_soil_features, axis=1)\n",
    "\n",
    "'''\n",
    "\n",
    "# Keep the 25 features based on the score\n",
    "X_train_scaled_v3 = X_train_scaled_v2.loc[:, first_25_elements]\n",
    "X_test_scaled_v3 = X_test_scaled_v2.loc[:, first_25_elements]\n",
    "X_hold_scaled_v3 = X_hold_scaled_v2.loc[:, first_25_elements]"
   ]
  },
  {
   "cell_type": "code",
   "execution_count": 195,
   "metadata": {},
   "outputs": [
    {
     "data": {
      "text/html": [
       "<div>\n",
       "<style scoped>\n",
       "    .dataframe tbody tr th:only-of-type {\n",
       "        vertical-align: middle;\n",
       "    }\n",
       "\n",
       "    .dataframe tbody tr th {\n",
       "        vertical-align: top;\n",
       "    }\n",
       "\n",
       "    .dataframe thead th {\n",
       "        text-align: right;\n",
       "    }\n",
       "</style>\n",
       "<table border=\"1\" class=\"dataframe\">\n",
       "  <thead>\n",
       "    <tr style=\"text-align: right;\">\n",
       "      <th></th>\n",
       "      <th>EMXT_6</th>\n",
       "      <th>DP10_6</th>\n",
       "      <th>DP01_7</th>\n",
       "      <th>PRCP_6</th>\n",
       "      <th>Representative_Non-Irrigated_Yield</th>\n",
       "      <th>DP01_10</th>\n",
       "      <th>PRCP_5</th>\n",
       "      <th>DP10_7</th>\n",
       "      <th>PRCP_7</th>\n",
       "      <th>DP01_5</th>\n",
       "      <th>...</th>\n",
       "      <th>EMXP_4</th>\n",
       "      <th>EMXP_6</th>\n",
       "      <th>TAVG_9</th>\n",
       "      <th>DX90_8</th>\n",
       "      <th>EMXT_10</th>\n",
       "      <th>EMXP_7</th>\n",
       "      <th>TAVG_7</th>\n",
       "      <th>PRCP_8</th>\n",
       "      <th>DT32_10</th>\n",
       "      <th>TAVG_8</th>\n",
       "    </tr>\n",
       "  </thead>\n",
       "  <tbody>\n",
       "    <tr>\n",
       "      <th>0</th>\n",
       "      <td>0.086477</td>\n",
       "      <td>-0.393665</td>\n",
       "      <td>-0.871345</td>\n",
       "      <td>-0.471183</td>\n",
       "      <td>-0.136290</td>\n",
       "      <td>0.285714</td>\n",
       "      <td>-1.199468</td>\n",
       "      <td>-0.627451</td>\n",
       "      <td>-0.712393</td>\n",
       "      <td>-1.644587</td>\n",
       "      <td>...</td>\n",
       "      <td>-0.648649</td>\n",
       "      <td>-0.639832</td>\n",
       "      <td>0.595983</td>\n",
       "      <td>3.807692</td>\n",
       "      <td>1.781224</td>\n",
       "      <td>-0.793837</td>\n",
       "      <td>-0.809177</td>\n",
       "      <td>0.295567</td>\n",
       "      <td>0.00</td>\n",
       "      <td>1.828019</td>\n",
       "    </tr>\n",
       "    <tr>\n",
       "      <th>1</th>\n",
       "      <td>-1.289569</td>\n",
       "      <td>0.393665</td>\n",
       "      <td>-0.435407</td>\n",
       "      <td>0.549711</td>\n",
       "      <td>-0.317552</td>\n",
       "      <td>0.317293</td>\n",
       "      <td>-0.443678</td>\n",
       "      <td>-1.235294</td>\n",
       "      <td>-0.876638</td>\n",
       "      <td>-0.152341</td>\n",
       "      <td>...</td>\n",
       "      <td>0.442607</td>\n",
       "      <td>0.629164</td>\n",
       "      <td>-0.580007</td>\n",
       "      <td>-0.207692</td>\n",
       "      <td>-0.490401</td>\n",
       "      <td>-0.754275</td>\n",
       "      <td>-1.389385</td>\n",
       "      <td>-0.014095</td>\n",
       "      <td>1.75</td>\n",
       "      <td>-1.238081</td>\n",
       "    </tr>\n",
       "    <tr>\n",
       "      <th>2</th>\n",
       "      <td>-0.538999</td>\n",
       "      <td>-0.099548</td>\n",
       "      <td>-0.052632</td>\n",
       "      <td>0.296011</td>\n",
       "      <td>0.864450</td>\n",
       "      <td>0.385714</td>\n",
       "      <td>-1.063547</td>\n",
       "      <td>-0.441176</td>\n",
       "      <td>-0.261875</td>\n",
       "      <td>-0.884422</td>\n",
       "      <td>...</td>\n",
       "      <td>1.611685</td>\n",
       "      <td>0.450684</td>\n",
       "      <td>0.930072</td>\n",
       "      <td>-0.807692</td>\n",
       "      <td>0.608772</td>\n",
       "      <td>-0.222535</td>\n",
       "      <td>-0.422372</td>\n",
       "      <td>0.634191</td>\n",
       "      <td>4.00</td>\n",
       "      <td>-0.054674</td>\n",
       "    </tr>\n",
       "    <tr>\n",
       "      <th>3</th>\n",
       "      <td>-0.254692</td>\n",
       "      <td>-0.298643</td>\n",
       "      <td>-0.184211</td>\n",
       "      <td>-0.181461</td>\n",
       "      <td>-0.180840</td>\n",
       "      <td>0.219048</td>\n",
       "      <td>0.402682</td>\n",
       "      <td>0.176471</td>\n",
       "      <td>1.026369</td>\n",
       "      <td>0.482412</td>\n",
       "      <td>...</td>\n",
       "      <td>-0.008943</td>\n",
       "      <td>0.297336</td>\n",
       "      <td>-0.740369</td>\n",
       "      <td>1.500000</td>\n",
       "      <td>0.860012</td>\n",
       "      <td>1.873975</td>\n",
       "      <td>1.382718</td>\n",
       "      <td>1.211159</td>\n",
       "      <td>1.00</td>\n",
       "      <td>1.828019</td>\n",
       "    </tr>\n",
       "    <tr>\n",
       "      <th>4</th>\n",
       "      <td>-0.087612</td>\n",
       "      <td>1.941176</td>\n",
       "      <td>-0.052632</td>\n",
       "      <td>2.521865</td>\n",
       "      <td>-0.003557</td>\n",
       "      <td>-0.580952</td>\n",
       "      <td>-0.575972</td>\n",
       "      <td>0.000000</td>\n",
       "      <td>-0.059857</td>\n",
       "      <td>0.000000</td>\n",
       "      <td>...</td>\n",
       "      <td>0.005962</td>\n",
       "      <td>1.098632</td>\n",
       "      <td>-0.043369</td>\n",
       "      <td>0.000000</td>\n",
       "      <td>0.016758</td>\n",
       "      <td>0.278754</td>\n",
       "      <td>-0.073523</td>\n",
       "      <td>-0.176669</td>\n",
       "      <td>0.00</td>\n",
       "      <td>-0.056130</td>\n",
       "    </tr>\n",
       "    <tr>\n",
       "      <th>...</th>\n",
       "      <td>...</td>\n",
       "      <td>...</td>\n",
       "      <td>...</td>\n",
       "      <td>...</td>\n",
       "      <td>...</td>\n",
       "      <td>...</td>\n",
       "      <td>...</td>\n",
       "      <td>...</td>\n",
       "      <td>...</td>\n",
       "      <td>...</td>\n",
       "      <td>...</td>\n",
       "      <td>...</td>\n",
       "      <td>...</td>\n",
       "      <td>...</td>\n",
       "      <td>...</td>\n",
       "      <td>...</td>\n",
       "      <td>...</td>\n",
       "      <td>...</td>\n",
       "      <td>...</td>\n",
       "      <td>...</td>\n",
       "      <td>...</td>\n",
       "    </tr>\n",
       "    <tr>\n",
       "      <th>1134</th>\n",
       "      <td>-1.505642</td>\n",
       "      <td>0.000000</td>\n",
       "      <td>0.000000</td>\n",
       "      <td>0.004490</td>\n",
       "      <td>1.641991</td>\n",
       "      <td>0.085714</td>\n",
       "      <td>0.000000</td>\n",
       "      <td>0.000000</td>\n",
       "      <td>-0.016995</td>\n",
       "      <td>0.048241</td>\n",
       "      <td>...</td>\n",
       "      <td>0.000000</td>\n",
       "      <td>0.000000</td>\n",
       "      <td>-1.475363</td>\n",
       "      <td>-0.807692</td>\n",
       "      <td>-1.233652</td>\n",
       "      <td>-0.005020</td>\n",
       "      <td>-0.486840</td>\n",
       "      <td>0.001083</td>\n",
       "      <td>0.50</td>\n",
       "      <td>0.079804</td>\n",
       "    </tr>\n",
       "    <tr>\n",
       "      <th>1135</th>\n",
       "      <td>-0.087612</td>\n",
       "      <td>-0.447964</td>\n",
       "      <td>-0.052632</td>\n",
       "      <td>0.496563</td>\n",
       "      <td>0.963784</td>\n",
       "      <td>0.485714</td>\n",
       "      <td>-0.118829</td>\n",
       "      <td>-0.176471</td>\n",
       "      <td>0.331320</td>\n",
       "      <td>-0.482412</td>\n",
       "      <td>...</td>\n",
       "      <td>0.512719</td>\n",
       "      <td>1.394528</td>\n",
       "      <td>-0.043369</td>\n",
       "      <td>0.000000</td>\n",
       "      <td>0.016758</td>\n",
       "      <td>0.147576</td>\n",
       "      <td>-0.073523</td>\n",
       "      <td>-0.487399</td>\n",
       "      <td>0.00</td>\n",
       "      <td>-0.056130</td>\n",
       "    </tr>\n",
       "    <tr>\n",
       "      <th>1136</th>\n",
       "      <td>-0.087612</td>\n",
       "      <td>-0.895928</td>\n",
       "      <td>0.078947</td>\n",
       "      <td>-0.785773</td>\n",
       "      <td>0.517003</td>\n",
       "      <td>-0.214286</td>\n",
       "      <td>1.726163</td>\n",
       "      <td>0.705882</td>\n",
       "      <td>-0.261536</td>\n",
       "      <td>-0.120603</td>\n",
       "      <td>...</td>\n",
       "      <td>0.029809</td>\n",
       "      <td>-0.437005</td>\n",
       "      <td>-0.043369</td>\n",
       "      <td>0.000000</td>\n",
       "      <td>0.016758</td>\n",
       "      <td>-0.660576</td>\n",
       "      <td>-0.073523</td>\n",
       "      <td>0.089374</td>\n",
       "      <td>0.00</td>\n",
       "      <td>-0.056130</td>\n",
       "    </tr>\n",
       "    <tr>\n",
       "      <th>1137</th>\n",
       "      <td>0.086477</td>\n",
       "      <td>0.398190</td>\n",
       "      <td>0.506579</td>\n",
       "      <td>1.001061</td>\n",
       "      <td>-0.136487</td>\n",
       "      <td>0.942857</td>\n",
       "      <td>-0.220963</td>\n",
       "      <td>0.264706</td>\n",
       "      <td>0.632485</td>\n",
       "      <td>0.482412</td>\n",
       "      <td>...</td>\n",
       "      <td>0.966812</td>\n",
       "      <td>1.028798</td>\n",
       "      <td>1.464613</td>\n",
       "      <td>0.807692</td>\n",
       "      <td>-0.103073</td>\n",
       "      <td>1.761537</td>\n",
       "      <td>0.415705</td>\n",
       "      <td>-0.841517</td>\n",
       "      <td>0.00</td>\n",
       "      <td>1.021151</td>\n",
       "    </tr>\n",
       "    <tr>\n",
       "      <th>1138</th>\n",
       "      <td>0.086477</td>\n",
       "      <td>-0.447964</td>\n",
       "      <td>-0.754386</td>\n",
       "      <td>-0.679694</td>\n",
       "      <td>-0.015642</td>\n",
       "      <td>0.365714</td>\n",
       "      <td>-0.977679</td>\n",
       "      <td>-0.941176</td>\n",
       "      <td>-0.461862</td>\n",
       "      <td>-1.145729</td>\n",
       "      <td>...</td>\n",
       "      <td>0.050676</td>\n",
       "      <td>-0.279338</td>\n",
       "      <td>-0.072193</td>\n",
       "      <td>1.269231</td>\n",
       "      <td>1.320618</td>\n",
       "      <td>-0.028110</td>\n",
       "      <td>-1.002580</td>\n",
       "      <td>2.311844</td>\n",
       "      <td>-1.00</td>\n",
       "      <td>0.348760</td>\n",
       "    </tr>\n",
       "  </tbody>\n",
       "</table>\n",
       "<p>1139 rows × 45 columns</p>\n",
       "</div>"
      ],
      "text/plain": [
       "        EMXT_6    DP10_6    DP01_7    PRCP_6  \\\n",
       "0     0.086477 -0.393665 -0.871345 -0.471183   \n",
       "1    -1.289569  0.393665 -0.435407  0.549711   \n",
       "2    -0.538999 -0.099548 -0.052632  0.296011   \n",
       "3    -0.254692 -0.298643 -0.184211 -0.181461   \n",
       "4    -0.087612  1.941176 -0.052632  2.521865   \n",
       "...        ...       ...       ...       ...   \n",
       "1134 -1.505642  0.000000  0.000000  0.004490   \n",
       "1135 -0.087612 -0.447964 -0.052632  0.496563   \n",
       "1136 -0.087612 -0.895928  0.078947 -0.785773   \n",
       "1137  0.086477  0.398190  0.506579  1.001061   \n",
       "1138  0.086477 -0.447964 -0.754386 -0.679694   \n",
       "\n",
       "      Representative_Non-Irrigated_Yield   DP01_10    PRCP_5    DP10_7  \\\n",
       "0                              -0.136290  0.285714 -1.199468 -0.627451   \n",
       "1                              -0.317552  0.317293 -0.443678 -1.235294   \n",
       "2                               0.864450  0.385714 -1.063547 -0.441176   \n",
       "3                              -0.180840  0.219048  0.402682  0.176471   \n",
       "4                              -0.003557 -0.580952 -0.575972  0.000000   \n",
       "...                                  ...       ...       ...       ...   \n",
       "1134                            1.641991  0.085714  0.000000  0.000000   \n",
       "1135                            0.963784  0.485714 -0.118829 -0.176471   \n",
       "1136                            0.517003 -0.214286  1.726163  0.705882   \n",
       "1137                           -0.136487  0.942857 -0.220963  0.264706   \n",
       "1138                           -0.015642  0.365714 -0.977679 -0.941176   \n",
       "\n",
       "        PRCP_7    DP01_5  ...    EMXP_4    EMXP_6    TAVG_9    DX90_8  \\\n",
       "0    -0.712393 -1.644587  ... -0.648649 -0.639832  0.595983  3.807692   \n",
       "1    -0.876638 -0.152341  ...  0.442607  0.629164 -0.580007 -0.207692   \n",
       "2    -0.261875 -0.884422  ...  1.611685  0.450684  0.930072 -0.807692   \n",
       "3     1.026369  0.482412  ... -0.008943  0.297336 -0.740369  1.500000   \n",
       "4    -0.059857  0.000000  ...  0.005962  1.098632 -0.043369  0.000000   \n",
       "...        ...       ...  ...       ...       ...       ...       ...   \n",
       "1134 -0.016995  0.048241  ...  0.000000  0.000000 -1.475363 -0.807692   \n",
       "1135  0.331320 -0.482412  ...  0.512719  1.394528 -0.043369  0.000000   \n",
       "1136 -0.261536 -0.120603  ...  0.029809 -0.437005 -0.043369  0.000000   \n",
       "1137  0.632485  0.482412  ...  0.966812  1.028798  1.464613  0.807692   \n",
       "1138 -0.461862 -1.145729  ...  0.050676 -0.279338 -0.072193  1.269231   \n",
       "\n",
       "       EMXT_10    EMXP_7    TAVG_7    PRCP_8  DT32_10    TAVG_8  \n",
       "0     1.781224 -0.793837 -0.809177  0.295567     0.00  1.828019  \n",
       "1    -0.490401 -0.754275 -1.389385 -0.014095     1.75 -1.238081  \n",
       "2     0.608772 -0.222535 -0.422372  0.634191     4.00 -0.054674  \n",
       "3     0.860012  1.873975  1.382718  1.211159     1.00  1.828019  \n",
       "4     0.016758  0.278754 -0.073523 -0.176669     0.00 -0.056130  \n",
       "...        ...       ...       ...       ...      ...       ...  \n",
       "1134 -1.233652 -0.005020 -0.486840  0.001083     0.50  0.079804  \n",
       "1135  0.016758  0.147576 -0.073523 -0.487399     0.00 -0.056130  \n",
       "1136  0.016758 -0.660576 -0.073523  0.089374     0.00 -0.056130  \n",
       "1137 -0.103073  1.761537  0.415705 -0.841517     0.00  1.021151  \n",
       "1138  1.320618 -0.028110 -1.002580  2.311844    -1.00  0.348760  \n",
       "\n",
       "[1139 rows x 45 columns]"
      ]
     },
     "execution_count": 195,
     "metadata": {},
     "output_type": "execute_result"
    }
   ],
   "source": [
    "X_train_scaled_v3"
   ]
  },
  {
   "cell_type": "markdown",
   "metadata": {},
   "source": [
    "## Third GB"
   ]
  },
  {
   "cell_type": "code",
   "execution_count": 196,
   "metadata": {},
   "outputs": [],
   "source": [
    "# Create a Gradient Boosting regressor\n",
    "gb_regressor_v2 = GradientBoostingRegressor()\n",
    "\n",
    "# Define a grid of hyperparameters to search\n",
    "param_grid = {\n",
    "    'n_estimators': [50, 100, 200],  # Number of boosting stages\n",
    "    'learning_rate': [0.01, 0.1, 0.5],  # Learning rate\n",
    "    'max_depth': [3, 5, 7]  # Maximum depth of the individual regression estimators\n",
    "}"
   ]
  },
  {
   "cell_type": "code",
   "execution_count": 197,
   "metadata": {},
   "outputs": [
    {
     "data": {
      "text/html": [
       "<style>#sk-container-id-19 {color: black;background-color: white;}#sk-container-id-19 pre{padding: 0;}#sk-container-id-19 div.sk-toggleable {background-color: white;}#sk-container-id-19 label.sk-toggleable__label {cursor: pointer;display: block;width: 100%;margin-bottom: 0;padding: 0.3em;box-sizing: border-box;text-align: center;}#sk-container-id-19 label.sk-toggleable__label-arrow:before {content: \"▸\";float: left;margin-right: 0.25em;color: #696969;}#sk-container-id-19 label.sk-toggleable__label-arrow:hover:before {color: black;}#sk-container-id-19 div.sk-estimator:hover label.sk-toggleable__label-arrow:before {color: black;}#sk-container-id-19 div.sk-toggleable__content {max-height: 0;max-width: 0;overflow: hidden;text-align: left;background-color: #f0f8ff;}#sk-container-id-19 div.sk-toggleable__content pre {margin: 0.2em;color: black;border-radius: 0.25em;background-color: #f0f8ff;}#sk-container-id-19 input.sk-toggleable__control:checked~div.sk-toggleable__content {max-height: 200px;max-width: 100%;overflow: auto;}#sk-container-id-19 input.sk-toggleable__control:checked~label.sk-toggleable__label-arrow:before {content: \"▾\";}#sk-container-id-19 div.sk-estimator input.sk-toggleable__control:checked~label.sk-toggleable__label {background-color: #d4ebff;}#sk-container-id-19 div.sk-label input.sk-toggleable__control:checked~label.sk-toggleable__label {background-color: #d4ebff;}#sk-container-id-19 input.sk-hidden--visually {border: 0;clip: rect(1px 1px 1px 1px);clip: rect(1px, 1px, 1px, 1px);height: 1px;margin: -1px;overflow: hidden;padding: 0;position: absolute;width: 1px;}#sk-container-id-19 div.sk-estimator {font-family: monospace;background-color: #f0f8ff;border: 1px dotted black;border-radius: 0.25em;box-sizing: border-box;margin-bottom: 0.5em;}#sk-container-id-19 div.sk-estimator:hover {background-color: #d4ebff;}#sk-container-id-19 div.sk-parallel-item::after {content: \"\";width: 100%;border-bottom: 1px solid gray;flex-grow: 1;}#sk-container-id-19 div.sk-label:hover label.sk-toggleable__label {background-color: #d4ebff;}#sk-container-id-19 div.sk-serial::before {content: \"\";position: absolute;border-left: 1px solid gray;box-sizing: border-box;top: 0;bottom: 0;left: 50%;z-index: 0;}#sk-container-id-19 div.sk-serial {display: flex;flex-direction: column;align-items: center;background-color: white;padding-right: 0.2em;padding-left: 0.2em;position: relative;}#sk-container-id-19 div.sk-item {position: relative;z-index: 1;}#sk-container-id-19 div.sk-parallel {display: flex;align-items: stretch;justify-content: center;background-color: white;position: relative;}#sk-container-id-19 div.sk-item::before, #sk-container-id-19 div.sk-parallel-item::before {content: \"\";position: absolute;border-left: 1px solid gray;box-sizing: border-box;top: 0;bottom: 0;left: 50%;z-index: -1;}#sk-container-id-19 div.sk-parallel-item {display: flex;flex-direction: column;z-index: 1;position: relative;background-color: white;}#sk-container-id-19 div.sk-parallel-item:first-child::after {align-self: flex-end;width: 50%;}#sk-container-id-19 div.sk-parallel-item:last-child::after {align-self: flex-start;width: 50%;}#sk-container-id-19 div.sk-parallel-item:only-child::after {width: 0;}#sk-container-id-19 div.sk-dashed-wrapped {border: 1px dashed gray;margin: 0 0.4em 0.5em 0.4em;box-sizing: border-box;padding-bottom: 0.4em;background-color: white;}#sk-container-id-19 div.sk-label label {font-family: monospace;font-weight: bold;display: inline-block;line-height: 1.2em;}#sk-container-id-19 div.sk-label-container {text-align: center;}#sk-container-id-19 div.sk-container {/* jupyter's `normalize.less` sets `[hidden] { display: none; }` but bootstrap.min.css set `[hidden] { display: none !important; }` so we also need the `!important` here to be able to override the default hidden behavior on the sphinx rendered scikit-learn.org. See: https://github.com/scikit-learn/scikit-learn/issues/21755 */display: inline-block !important;position: relative;}#sk-container-id-19 div.sk-text-repr-fallback {display: none;}</style><div id=\"sk-container-id-19\" class=\"sk-top-container\"><div class=\"sk-text-repr-fallback\"><pre>GridSearchCV(cv=5, estimator=GradientBoostingRegressor(), n_jobs=-1,\n",
       "             param_grid={&#x27;learning_rate&#x27;: [0.01, 0.1, 0.5],\n",
       "                         &#x27;max_depth&#x27;: [3, 5, 7],\n",
       "                         &#x27;n_estimators&#x27;: [50, 100, 200]},\n",
       "             scoring=&#x27;neg_mean_squared_error&#x27;)</pre><b>In a Jupyter environment, please rerun this cell to show the HTML representation or trust the notebook. <br />On GitHub, the HTML representation is unable to render, please try loading this page with nbviewer.org.</b></div><div class=\"sk-container\" hidden><div class=\"sk-item sk-dashed-wrapped\"><div class=\"sk-label-container\"><div class=\"sk-label sk-toggleable\"><input class=\"sk-toggleable__control sk-hidden--visually\" id=\"sk-estimator-id-33\" type=\"checkbox\" ><label for=\"sk-estimator-id-33\" class=\"sk-toggleable__label sk-toggleable__label-arrow\">GridSearchCV</label><div class=\"sk-toggleable__content\"><pre>GridSearchCV(cv=5, estimator=GradientBoostingRegressor(), n_jobs=-1,\n",
       "             param_grid={&#x27;learning_rate&#x27;: [0.01, 0.1, 0.5],\n",
       "                         &#x27;max_depth&#x27;: [3, 5, 7],\n",
       "                         &#x27;n_estimators&#x27;: [50, 100, 200]},\n",
       "             scoring=&#x27;neg_mean_squared_error&#x27;)</pre></div></div></div><div class=\"sk-parallel\"><div class=\"sk-parallel-item\"><div class=\"sk-item\"><div class=\"sk-label-container\"><div class=\"sk-label sk-toggleable\"><input class=\"sk-toggleable__control sk-hidden--visually\" id=\"sk-estimator-id-34\" type=\"checkbox\" ><label for=\"sk-estimator-id-34\" class=\"sk-toggleable__label sk-toggleable__label-arrow\">estimator: GradientBoostingRegressor</label><div class=\"sk-toggleable__content\"><pre>GradientBoostingRegressor()</pre></div></div></div><div class=\"sk-serial\"><div class=\"sk-item\"><div class=\"sk-estimator sk-toggleable\"><input class=\"sk-toggleable__control sk-hidden--visually\" id=\"sk-estimator-id-35\" type=\"checkbox\" ><label for=\"sk-estimator-id-35\" class=\"sk-toggleable__label sk-toggleable__label-arrow\">GradientBoostingRegressor</label><div class=\"sk-toggleable__content\"><pre>GradientBoostingRegressor()</pre></div></div></div></div></div></div></div></div></div></div>"
      ],
      "text/plain": [
       "GridSearchCV(cv=5, estimator=GradientBoostingRegressor(), n_jobs=-1,\n",
       "             param_grid={'learning_rate': [0.01, 0.1, 0.5],\n",
       "                         'max_depth': [3, 5, 7],\n",
       "                         'n_estimators': [50, 100, 200]},\n",
       "             scoring='neg_mean_squared_error')"
      ]
     },
     "execution_count": 197,
     "metadata": {},
     "output_type": "execute_result"
    }
   ],
   "source": [
    "# Perform grid search with 5-fold cross-validation\n",
    "grid_search_gb_v2 = GridSearchCV(gb_regressor_v2, param_grid, cv=5, scoring='neg_mean_squared_error', n_jobs=-1)\n",
    "\n",
    "#change here\n",
    "grid_search_gb_v2.fit(X_train_scaled_v3, y_train) "
   ]
  },
  {
   "cell_type": "code",
   "execution_count": 198,
   "metadata": {},
   "outputs": [
    {
     "data": {
      "text/html": [
       "<style>#sk-container-id-20 {color: black;background-color: white;}#sk-container-id-20 pre{padding: 0;}#sk-container-id-20 div.sk-toggleable {background-color: white;}#sk-container-id-20 label.sk-toggleable__label {cursor: pointer;display: block;width: 100%;margin-bottom: 0;padding: 0.3em;box-sizing: border-box;text-align: center;}#sk-container-id-20 label.sk-toggleable__label-arrow:before {content: \"▸\";float: left;margin-right: 0.25em;color: #696969;}#sk-container-id-20 label.sk-toggleable__label-arrow:hover:before {color: black;}#sk-container-id-20 div.sk-estimator:hover label.sk-toggleable__label-arrow:before {color: black;}#sk-container-id-20 div.sk-toggleable__content {max-height: 0;max-width: 0;overflow: hidden;text-align: left;background-color: #f0f8ff;}#sk-container-id-20 div.sk-toggleable__content pre {margin: 0.2em;color: black;border-radius: 0.25em;background-color: #f0f8ff;}#sk-container-id-20 input.sk-toggleable__control:checked~div.sk-toggleable__content {max-height: 200px;max-width: 100%;overflow: auto;}#sk-container-id-20 input.sk-toggleable__control:checked~label.sk-toggleable__label-arrow:before {content: \"▾\";}#sk-container-id-20 div.sk-estimator input.sk-toggleable__control:checked~label.sk-toggleable__label {background-color: #d4ebff;}#sk-container-id-20 div.sk-label input.sk-toggleable__control:checked~label.sk-toggleable__label {background-color: #d4ebff;}#sk-container-id-20 input.sk-hidden--visually {border: 0;clip: rect(1px 1px 1px 1px);clip: rect(1px, 1px, 1px, 1px);height: 1px;margin: -1px;overflow: hidden;padding: 0;position: absolute;width: 1px;}#sk-container-id-20 div.sk-estimator {font-family: monospace;background-color: #f0f8ff;border: 1px dotted black;border-radius: 0.25em;box-sizing: border-box;margin-bottom: 0.5em;}#sk-container-id-20 div.sk-estimator:hover {background-color: #d4ebff;}#sk-container-id-20 div.sk-parallel-item::after {content: \"\";width: 100%;border-bottom: 1px solid gray;flex-grow: 1;}#sk-container-id-20 div.sk-label:hover label.sk-toggleable__label {background-color: #d4ebff;}#sk-container-id-20 div.sk-serial::before {content: \"\";position: absolute;border-left: 1px solid gray;box-sizing: border-box;top: 0;bottom: 0;left: 50%;z-index: 0;}#sk-container-id-20 div.sk-serial {display: flex;flex-direction: column;align-items: center;background-color: white;padding-right: 0.2em;padding-left: 0.2em;position: relative;}#sk-container-id-20 div.sk-item {position: relative;z-index: 1;}#sk-container-id-20 div.sk-parallel {display: flex;align-items: stretch;justify-content: center;background-color: white;position: relative;}#sk-container-id-20 div.sk-item::before, #sk-container-id-20 div.sk-parallel-item::before {content: \"\";position: absolute;border-left: 1px solid gray;box-sizing: border-box;top: 0;bottom: 0;left: 50%;z-index: -1;}#sk-container-id-20 div.sk-parallel-item {display: flex;flex-direction: column;z-index: 1;position: relative;background-color: white;}#sk-container-id-20 div.sk-parallel-item:first-child::after {align-self: flex-end;width: 50%;}#sk-container-id-20 div.sk-parallel-item:last-child::after {align-self: flex-start;width: 50%;}#sk-container-id-20 div.sk-parallel-item:only-child::after {width: 0;}#sk-container-id-20 div.sk-dashed-wrapped {border: 1px dashed gray;margin: 0 0.4em 0.5em 0.4em;box-sizing: border-box;padding-bottom: 0.4em;background-color: white;}#sk-container-id-20 div.sk-label label {font-family: monospace;font-weight: bold;display: inline-block;line-height: 1.2em;}#sk-container-id-20 div.sk-label-container {text-align: center;}#sk-container-id-20 div.sk-container {/* jupyter's `normalize.less` sets `[hidden] { display: none; }` but bootstrap.min.css set `[hidden] { display: none !important; }` so we also need the `!important` here to be able to override the default hidden behavior on the sphinx rendered scikit-learn.org. See: https://github.com/scikit-learn/scikit-learn/issues/21755 */display: inline-block !important;position: relative;}#sk-container-id-20 div.sk-text-repr-fallback {display: none;}</style><div id=\"sk-container-id-20\" class=\"sk-top-container\"><div class=\"sk-text-repr-fallback\"><pre>GradientBoostingRegressor(max_depth=5, n_estimators=200)</pre><b>In a Jupyter environment, please rerun this cell to show the HTML representation or trust the notebook. <br />On GitHub, the HTML representation is unable to render, please try loading this page with nbviewer.org.</b></div><div class=\"sk-container\" hidden><div class=\"sk-item\"><div class=\"sk-estimator sk-toggleable\"><input class=\"sk-toggleable__control sk-hidden--visually\" id=\"sk-estimator-id-36\" type=\"checkbox\" checked><label for=\"sk-estimator-id-36\" class=\"sk-toggleable__label sk-toggleable__label-arrow\">GradientBoostingRegressor</label><div class=\"sk-toggleable__content\"><pre>GradientBoostingRegressor(max_depth=5, n_estimators=200)</pre></div></div></div></div></div>"
      ],
      "text/plain": [
       "GradientBoostingRegressor(max_depth=5, n_estimators=200)"
      ]
     },
     "execution_count": 198,
     "metadata": {},
     "output_type": "execute_result"
    }
   ],
   "source": [
    "# Make predictions on the testing data using the best model\n",
    "best_params_gb_v2 = grid_search_gb_v2.best_estimator_\n",
    "gb_pred_v2 = best_params_gb_v2.predict(X_test_scaled_v3)\n",
    "\n",
    "best_params_gb_v2"
   ]
  },
  {
   "cell_type": "code",
   "execution_count": 199,
   "metadata": {},
   "outputs": [
    {
     "data": {
      "image/png": "[encoded data removed]",
      "text/plain": [
       "<Figure size 640x480 with 1 Axes>"
      ]
     },
     "metadata": {},
     "output_type": "display_data"
    }
   ],
   "source": [
    "residuals_gb_v2 = y_test - gb_pred_v2\n",
    "plt.scatter(gb_pred_v2, residuals_gb_v2)\n",
    "plt.xlabel('Predicted')\n",
    "plt.ylabel('Residuals')\n",
    "plt.axhline(y=0, color='red', linestyle='--')  # Horizontal line at y=0\n",
    "plt.title('Residual Plot')\n",
    "plt.show()"
   ]
  },
  {
   "cell_type": "code",
   "execution_count": 200,
   "metadata": {},
   "outputs": [
    {
     "name": "stdout",
     "output_type": "stream",
     "text": [
      "Mean Squared Error: 201.40422839902172\n",
      "R-squared: 0.7371650742898128\n"
     ]
    }
   ],
   "source": [
    "mse = mean_squared_error(y_test , gb_pred_v2)\n",
    "r2 = r2_score(y_test, gb_pred_v2)\n",
    "\n",
    "print(\"Mean Squared Error:\", mse)\n",
    "print(\"R-squared:\", r2)"
   ]
  },
  {
   "cell_type": "markdown",
   "metadata": {},
   "source": [
    "## Testing for GB_v2 (Unseen data)"
   ]
  },
  {
   "cell_type": "code",
   "execution_count": 201,
   "metadata": {},
   "outputs": [
    {
     "data": {
      "image/png": "[encoded data removed]",
      "text/plain": [
       "<Figure size 640x480 with 1 Axes>"
      ]
     },
     "metadata": {},
     "output_type": "display_data"
    }
   ],
   "source": [
    "best_predictions_gb_hold_v2 = best_params_gb_v2.predict(X_hold_scaled_v3)\n",
    "\n",
    "residuals_gb_hold_v2 = y_hold - best_predictions_gb_hold_v2\n",
    "plt.scatter(best_predictions_gb_hold_v2, residuals_gb_hold_v2)\n",
    "plt.xlabel('Predicted')\n",
    "plt.ylabel('Residuals')\n",
    "plt.axhline(y=0, color='red', linestyle='--')  # Horizontal line at y=0\n",
    "plt.title('Residual Plot')\n",
    "plt.show()"
   ]
  },
  {
   "cell_type": "code",
   "execution_count": 202,
   "metadata": {},
   "outputs": [
    {
     "name": "stdout",
     "output_type": "stream",
     "text": [
      "Mean Squared Error: 360.03766075813206\n",
      "R-squared: 0.33469928956731854\n"
     ]
    }
   ],
   "source": [
    "mse = mean_squared_error(y_hold , best_predictions_gb_hold_v2 )\n",
    "r2 = r2_score(y_hold, best_predictions_gb_hold_v2)\n",
    "\n",
    "print(\"Mean Squared Error:\", mse)\n",
    "print(\"R-squared:\", r2)"
   ]
  },
  {
   "cell_type": "code",
   "execution_count": null,
   "metadata": {},
   "outputs": [],
   "source": []
  },
  {
   "cell_type": "code",
   "execution_count": null,
   "metadata": {},
   "outputs": [],
   "source": []
  },
  {
   "cell_type": "code",
   "execution_count": null,
   "metadata": {},
   "outputs": [],
   "source": []
  },
  {
   "cell_type": "code",
   "execution_count": null,
   "metadata": {},
   "outputs": [],
   "source": []
  },
  {
   "cell_type": "code",
   "execution_count": null,
   "metadata": {},
   "outputs": [],
   "source": []
  },
  {
   "cell_type": "code",
   "execution_count": null,
   "metadata": {},
   "outputs": [],
   "source": []
  },
  {
   "cell_type": "code",
   "execution_count": null,
   "metadata": {},
   "outputs": [],
   "source": []
  },
  {
   "cell_type": "code",
   "execution_count": null,
   "metadata": {},
   "outputs": [],
   "source": []
  },
  {
   "cell_type": "code",
   "execution_count": null,
   "metadata": {},
   "outputs": [],
   "source": []
  },
  {
   "cell_type": "code",
   "execution_count": null,
   "metadata": {},
   "outputs": [],
   "source": []
  }
 ],
 "metadata": {
  "kernelspec": {
   "display_name": "Python 3",
   "language": "python",
   "name": "python3"
  },
  "language_info": {
   "codemirror_mode": {
    "name": "ipython",
    "version": 3
   },
   "file_extension": ".py",
   "mimetype": "text/x-python",
   "name": "python",
   "nbconvert_exporter": "python",
   "pygments_lexer": "ipython3",
   "version": "3.8.0"
  }
 },
 "nbformat": 4,
 "nbformat_minor": 2
}
